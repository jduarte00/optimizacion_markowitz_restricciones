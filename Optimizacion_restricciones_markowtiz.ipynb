{
 "cells": [
  {
   "cell_type": "markdown",
   "metadata": {},
   "source": [
    "# Optimización de Portafolios con Restricciones según la Teoría de Markowitz"
   ]
  },
  {
   "cell_type": "markdown",
   "metadata": {},
   "source": [
    "En 1952, Markowitz proponia lo que se conoce como toería de portafolios, cuyo modelo fue utilizado extensivamente en el mundo de las finanzas, sin embargo, recientemente se encontró que en la práctica las soluciones encontradas por el modelo no funcionaban como se esperaba. Esto se debía a diversos factores, pero uno de los más significativos era la falta de estabilidad en las soluciones, pues la mayoría de los métodos para obtener las soluciones (ya sea mediante caminos analíticos o numéricos) requerían de la inversión de la matriz de varianza covarianza muestral, y **pequeños errores de estimación en la matriz de varianza covarianza se magnificaban de forma importante al realizar la inversión de la matriz de dicha matriz**, lo que alteraba significativamente las soluciones obtenidas mediante el modelo de Markowitz. \n",
    "\n",
    "Una de las soluciones a este inconveniente fue la adición de restricciones al planteamineto original, lo que estabilizaba la solución y también dotaba de cierta flexibilidad al modelo, pues las restricciones permitian reflejar de forma más precisa el mundo real."
   ]
  },
  {
   "cell_type": "markdown",
   "metadata": {},
   "source": [
    "## Librerías externas y descarga de la información"
   ]
  },
  {
   "cell_type": "markdown",
   "metadata": {},
   "source": [
    "A continuación se descargan librerías auxiliares para la optimizacioń, procesamiento y descarga de los datos, así como para la estimación de la matriz de varianza covarianza."
   ]
  },
  {
   "cell_type": "code",
   "execution_count": 1,
   "metadata": {
    "id": "ajI0ErgoqhuY"
   },
   "outputs": [],
   "source": [
    "from math import sqrt\n",
    "from cvxopt import matrix\n",
    "from cvxopt import solvers\n",
    "from cvxopt.blas import dot\n",
    "from cvxopt.solvers import qp\n",
    "import pylab\n",
    "import yfinance as yf\n",
    "import numpy as np\n",
    "import matplotlib.pyplot as plt\n",
    "#from matplotlib.pyplot import figure\n",
    "import pandas as pd\n",
    "import scipy.stats as sp \n",
    "import itertools\n",
    "import seaborn as sns"
   ]
  },
  {
   "cell_type": "markdown",
   "metadata": {},
   "source": [
    "Es posible configurar el solver para no mostrar el progreso de la búsqueda de la solución óptima"
   ]
  },
  {
   "cell_type": "code",
   "execution_count": 2,
   "metadata": {},
   "outputs": [],
   "source": [
    "solvers.options['show_progress'] = False"
   ]
  },
  {
   "cell_type": "markdown",
   "metadata": {},
   "source": [
    "## Implementación con un número pequeño de activos"
   ]
  },
  {
   "cell_type": "markdown",
   "metadata": {},
   "source": [
    "Para poder interpretar las soluciones de forma más sencilla, primero se utilizarán únicamente cuatro activos:\n",
    "\n",
    "- Bitcoin\n",
    "- Oro\n",
    "- Peso/Dólar\n",
    "- Índice de Precios y Cotizaciones (IPC)\n",
    "\n",
    "La información de estos activos pueden ser obtenidos de Yahoo Finance, y se utilizará información de todo el año 2021. "
   ]
  },
  {
   "cell_type": "code",
   "execution_count": 3,
   "metadata": {
    "colab": {
     "base_uri": "https://localhost:8080/"
    },
    "id": "Q5JVvxW9rpz8",
    "outputId": "cc4f6989-6c87-4bfa-9ffc-67165fc7bb06"
   },
   "outputs": [
    {
     "name": "stdout",
     "output_type": "stream",
     "text": [
      "[*********************100%***********************]  4 of 4 completed\n"
     ]
    }
   ],
   "source": [
    "selected_stocks = ['BTC-USD','GC=F', 'MXN=X','^MXX']\n",
    "raw = yf.download(selected_stocks,\"2021-01-01\",\"2021-12-31\") "
   ]
  },
  {
   "cell_type": "markdown",
   "metadata": {},
   "source": [
    "Para poder hacer la estimación de la matriz de varianza covarianza, es necesario que no se tengan valores faltantes, por lo que a continuación se quitan valores nulos y se obtienen los retornos diarios de los activos seleccionados. Estos retornos se pueden guardar en un csv para poder replicar posteriormente este mismo ejercicio si así se quisiera."
   ]
  },
  {
   "cell_type": "code",
   "execution_count": 4,
   "metadata": {},
   "outputs": [],
   "source": [
    "precios_cierre = pd.DataFrame(raw.Close).dropna()\n",
    "retpor = precios_cierre.pct_change(periods=1).iloc[1:,:]\n",
    "#retpor.to_csv('./retpor.csv', index = True)"
   ]
  },
  {
   "cell_type": "code",
   "execution_count": 5,
   "metadata": {},
   "outputs": [
    {
     "data": {
      "text/html": [
       "<div>\n",
       "<style scoped>\n",
       "    .dataframe tbody tr th:only-of-type {\n",
       "        vertical-align: middle;\n",
       "    }\n",
       "\n",
       "    .dataframe tbody tr th {\n",
       "        vertical-align: top;\n",
       "    }\n",
       "\n",
       "    .dataframe thead th {\n",
       "        text-align: right;\n",
       "    }\n",
       "</style>\n",
       "<table border=\"1\" class=\"dataframe\">\n",
       "  <thead>\n",
       "    <tr style=\"text-align: right;\">\n",
       "      <th></th>\n",
       "      <th>BTC-USD</th>\n",
       "      <th>GC=F</th>\n",
       "      <th>MXN=X</th>\n",
       "      <th>^MXX</th>\n",
       "    </tr>\n",
       "    <tr>\n",
       "      <th>Date</th>\n",
       "      <th></th>\n",
       "      <th></th>\n",
       "      <th></th>\n",
       "      <th></th>\n",
       "    </tr>\n",
       "  </thead>\n",
       "  <tbody>\n",
       "    <tr>\n",
       "      <th>2021-01-05</th>\n",
       "      <td>0.063197</td>\n",
       "      <td>0.004114</td>\n",
       "      <td>0.004784</td>\n",
       "      <td>0.004589</td>\n",
       "    </tr>\n",
       "    <tr>\n",
       "      <th>2021-01-06</th>\n",
       "      <td>0.083311</td>\n",
       "      <td>-0.023455</td>\n",
       "      <td>-0.002018</td>\n",
       "      <td>0.015121</td>\n",
       "    </tr>\n",
       "    <tr>\n",
       "      <th>2021-01-07</th>\n",
       "      <td>0.069157</td>\n",
       "      <td>0.002832</td>\n",
       "      <td>-0.012382</td>\n",
       "      <td>0.013195</td>\n",
       "    </tr>\n",
       "    <tr>\n",
       "      <th>2021-01-08</th>\n",
       "      <td>0.036234</td>\n",
       "      <td>-0.040893</td>\n",
       "      <td>0.017518</td>\n",
       "      <td>0.011705</td>\n",
       "    </tr>\n",
       "    <tr>\n",
       "      <th>2021-01-11</th>\n",
       "      <td>-0.128217</td>\n",
       "      <td>0.008451</td>\n",
       "      <td>0.002519</td>\n",
       "      <td>-0.007147</td>\n",
       "    </tr>\n",
       "    <tr>\n",
       "      <th>2021-01-12</th>\n",
       "      <td>-0.046215</td>\n",
       "      <td>-0.003622</td>\n",
       "      <td>0.000594</td>\n",
       "      <td>-0.009560</td>\n",
       "    </tr>\n",
       "    <tr>\n",
       "      <th>2021-01-13</th>\n",
       "      <td>0.100032</td>\n",
       "      <td>0.005806</td>\n",
       "      <td>-0.013357</td>\n",
       "      <td>-0.004605</td>\n",
       "    </tr>\n",
       "    <tr>\n",
       "      <th>2021-01-14</th>\n",
       "      <td>0.050138</td>\n",
       "      <td>-0.001780</td>\n",
       "      <td>0.002118</td>\n",
       "      <td>0.007231</td>\n",
       "    </tr>\n",
       "    <tr>\n",
       "      <th>2021-01-15</th>\n",
       "      <td>-0.060274</td>\n",
       "      <td>-0.011350</td>\n",
       "      <td>-0.005697</td>\n",
       "      <td>-0.003877</td>\n",
       "    </tr>\n",
       "    <tr>\n",
       "      <th>2021-01-19</th>\n",
       "      <td>-0.020517</td>\n",
       "      <td>0.005576</td>\n",
       "      <td>-0.001404</td>\n",
       "      <td>-0.008648</td>\n",
       "    </tr>\n",
       "  </tbody>\n",
       "</table>\n",
       "</div>"
      ],
      "text/plain": [
       "             BTC-USD      GC=F     MXN=X      ^MXX\n",
       "Date                                              \n",
       "2021-01-05  0.063197  0.004114  0.004784  0.004589\n",
       "2021-01-06  0.083311 -0.023455 -0.002018  0.015121\n",
       "2021-01-07  0.069157  0.002832 -0.012382  0.013195\n",
       "2021-01-08  0.036234 -0.040893  0.017518  0.011705\n",
       "2021-01-11 -0.128217  0.008451  0.002519 -0.007147\n",
       "2021-01-12 -0.046215 -0.003622  0.000594 -0.009560\n",
       "2021-01-13  0.100032  0.005806 -0.013357 -0.004605\n",
       "2021-01-14  0.050138 -0.001780  0.002118  0.007231\n",
       "2021-01-15 -0.060274 -0.011350 -0.005697 -0.003877\n",
       "2021-01-19 -0.020517  0.005576 -0.001404 -0.008648"
      ]
     },
     "execution_count": 5,
     "metadata": {},
     "output_type": "execute_result"
    }
   ],
   "source": [
    "retpor.head(10)"
   ]
  },
  {
   "cell_type": "markdown",
   "metadata": {},
   "source": [
    "Se muestra una gráfica de la matriz de correlación muestral, para mostrar que la mayoría de los activos utilizados no están particularmente correlacionados. Puede notarse que la mayoría de las correlaciones están cercanas al cero (pues son de color rojo)."
   ]
  },
  {
   "cell_type": "code",
   "execution_count": 6,
   "metadata": {
    "colab": {
     "base_uri": "https://localhost:8080/",
     "height": 432
    },
    "id": "_Ni20rOzoNQj",
    "outputId": "d9f494b6-3adb-4020-e39f-2da6e019c906"
   },
   "outputs": [
    {
     "data": {
      "image/png": "[encoded data removed]",
      "text/plain": [
       "<Figure size 504x504 with 2 Axes>"
      ]
     },
     "metadata": {
      "needs_background": "light"
     },
     "output_type": "display_data"
    }
   ],
   "source": [
    "cov_m = np.corrcoef(retpor.T)\n",
    "fig = plt.figure(figsize = (7, 7))\n",
    "ax = sns.heatmap(cov_m, vmin=-1, vmax=1)"
   ]
  },
  {
   "cell_type": "markdown",
   "metadata": {},
   "source": [
    "A continuación se irán aplicando una a una las restricciones que se han analizado, se obtendrá la frontera óptima y se comentará sobre las soluciones obtenidas. En cada ocación se utilizará la matriz de varianza covarianza muestral $E$ como estimador de $\\Sigma$ y se usarán el promedio de los retornos como estimador de $\\mu$. Hay que notar que hay formas mucho más precisas y complejas de estimar estos dos parámetros, sin embargo, para no perder el objetivo de este notebook (que es centrarse en las restricciones), se usarán estos estimadores al ser más simples y ampliamente conocidos."
   ]
  },
  {
   "cell_type": "markdown",
   "metadata": {
    "id": "DbeuF6qm7uK4",
    "tags": []
   },
   "source": [
    "# Restricción de Ganancia Mínima (solución analítica)"
   ]
  },
  {
   "cell_type": "markdown",
   "metadata": {},
   "source": [
    "Bajo esta restricción, se constriñe al modelo la búsqueda de portafolios cuya ganancia esperada sea al menos de $G$.\n",
    "\n",
    "La función objetivo es la siguiente:\n",
    "\n",
    "$$ \\underset{w \\in \\mathbb{R}^p}{\\text{min}} \\frac{1}{2}  w^t \\Sigma w$$\n",
    "\n",
    "La restricción se expresa de la siguiente forma:\n",
    "\n",
    "$$ w^t g \\geq G$$\n",
    "\n",
    "Para este planteamiento existe una solución analítica, la cuál está dada por:\n",
    "\n",
    "$$ x^* = \\frac{G E^{-1} \\mu}{\\mu^T E^{-1} \\mu}$$"
   ]
  },
  {
   "cell_type": "code",
   "execution_count": 6,
   "metadata": {
    "id": "4-Fz33WG7tmC"
   },
   "outputs": [],
   "source": [
    "E = np.cov(retpor.T)\n",
    "g = np.mean(retpor, axis = 0)"
   ]
  },
  {
   "cell_type": "code",
   "execution_count": 7,
   "metadata": {},
   "outputs": [
    {
     "data": {
      "text/plain": [
       "array([[ 2.47681790e-03, -3.05958467e-05, -5.45297299e-06,\n",
       "         7.96447410e-05],\n",
       "       [-3.05958467e-05,  8.75502741e-05, -1.19931407e-05,\n",
       "         1.06575493e-06],\n",
       "       [-5.45297299e-06, -1.19931407e-05,  4.61111288e-05,\n",
       "        -1.59860240e-06],\n",
       "       [ 7.96447410e-05,  1.06575493e-06, -1.59860240e-06,\n",
       "         7.67955766e-05]])"
      ]
     },
     "execution_count": 7,
     "metadata": {},
     "output_type": "execute_result"
    }
   ],
   "source": [
    "E"
   ]
  },
  {
   "cell_type": "code",
   "execution_count": 8,
   "metadata": {},
   "outputs": [
    {
     "data": {
      "text/plain": [
       "BTC-USD    0.002823\n",
       "GC=F      -0.000243\n",
       "MXN=X      0.000166\n",
       "^MXX       0.000747\n",
       "dtype: float64"
      ]
     },
     "execution_count": 8,
     "metadata": {},
     "output_type": "execute_result"
    }
   ],
   "source": [
    "g"
   ]
  },
  {
   "cell_type": "markdown",
   "metadata": {},
   "source": [
    "Procedemos a definir la función que nos permite obtener la solución analítica, siendo que el único parámetro es el valor de $G$, es decir, de la ganancia mínima esperada del portafolio."
   ]
  },
  {
   "cell_type": "code",
   "execution_count": 9,
   "metadata": {
    "id": "_4oi5WpActIs"
   },
   "outputs": [],
   "source": [
    "def pesos_ganancia_minima(ganancia):\n",
    "  return ganancia * ((np.linalg.inv(E)@g)/(g.T @ np.linalg.inv(E)@g))"
   ]
  },
  {
   "cell_type": "markdown",
   "metadata": {},
   "source": [
    "A continuación calculamos la solución para varios valores de $G$ y cuantificamos la varianza asociado a cada portafolio mediante la formula:\n",
    "\n",
    "$$ \\sigma^2 = x^T \\Sigma x $$\n",
    "\n",
    "Los resultados los guardamos en un dataframe "
   ]
  },
  {
   "cell_type": "code",
   "execution_count": 10,
   "metadata": {
    "colab": {
     "base_uri": "https://localhost:8080/"
    },
    "id": "PJ0diUV9ao41",
    "outputId": "6e8147f2-76c9-4714-b94b-dc409d9558f4"
   },
   "outputs": [
    {
     "name": "stdout",
     "output_type": "stream",
     "text": [
      "[ 0.39011872 -0.99216962  1.62506982  4.19897583]\n",
      "0.004749000000000001\n"
     ]
    }
   ],
   "source": [
    "prueba1 = pesos_ganancia_minima(.004749)\n",
    "print(prueba1)\n",
    "print(g@prueba1)"
   ]
  },
  {
   "cell_type": "markdown",
   "metadata": {},
   "source": [
    "A continuación se muestra la frontera óptima. Hay algo que salta inmediatamente a la vista y es que el riesgo aumenta de forma proporcional a la ganancia sin parecer acercarse a un límite asintótico (es decir, a una ganancia máxima). Esto se debe a que no se están utilizando restricciones posteriores para poder constriñir las soluciones obtenidas analíticamente, como se mostrará más adelante:"
   ]
  },
  {
   "cell_type": "code",
   "execution_count": 11,
   "metadata": {
    "colab": {
     "base_uri": "https://localhost:8080/"
    },
    "id": "nptFuz7tat1Q",
    "outputId": "75c6b44a-d773-43fc-dbe2-3a39c52a2248"
   },
   "outputs": [
    {
     "name": "stdout",
     "output_type": "stream",
     "text": [
      "[ 1.23221326 -3.13382698  5.13288004 13.26271581]\n",
      "0.015000000000000003\n"
     ]
    }
   ],
   "source": [
    "prueba2 = pesos_ganancia_minima(.015)\n",
    "print(prueba2)\n",
    "print(g@prueba2)"
   ]
  },
  {
   "cell_type": "markdown",
   "metadata": {},
   "source": [
    "Inspeccionemos a continuación un ejemplo. Digamos que $G = 0.004749$, es decir, que deseamos obtener el portafolio cuya ganancia esperada (o rendimiento) mínima diaria sea de $0.4749 \\%$. La solución obtenida sería entonces la siguiente:"
   ]
  },
  {
   "cell_type": "code",
   "execution_count": 12,
   "metadata": {},
   "outputs": [
    {
     "data": {
      "text/plain": [
       "array([ 0.39011872, -0.99216962,  1.62506982,  4.19897583])"
      ]
     },
     "execution_count": 12,
     "metadata": {},
     "output_type": "execute_result"
    }
   ],
   "source": [
    "pesos_ganancia_minima(.004749)"
   ]
  },
  {
   "cell_type": "markdown",
   "metadata": {},
   "source": [
    "Salta a la vista que se tienen pesos que son negativos, e incluso algunos que son mayores a 1. En este caso entra el concepto de ventas en corto y de apalancamiento, pues básicamente podemos interpretar la solución obtenida de la siguiente forma: para el primer activo (BTC) hay que invertir el 39% del capital, para el segundo activo (Oro) hay que pedir prestado  el equivalente al 99.21% de nuestro capital, venderlo inmediatamente y comprarlo a un precio más bajo en el futuro. Para los dólares, habría que apalancar nuestra posición en un equivalente al 1.6 veces de nuestro capital e invertirlo en dólares y, por último, habría que apalancarse en el IPC 4.16 veces el equivalente a nuestro capital!. Estas soluciones no son muy realistas, sin embargo, hablando matemáticamente, son correctas, pues puede observarse a continuación que la ganancía mínima es justo la esperada, y además al formar parte de la frontera eficiente esta asignación de capital es la que tiene un menor riesgo. "
   ]
  },
  {
   "cell_type": "code",
   "execution_count": 13,
   "metadata": {},
   "outputs": [
    {
     "data": {
      "text/plain": [
       "0.004749000000000001"
      ]
     },
     "execution_count": 13,
     "metadata": {},
     "output_type": "execute_result"
    }
   ],
   "source": [
    "pesos_ganancia_minima(.004749) @ g"
   ]
  },
  {
   "cell_type": "markdown",
   "metadata": {},
   "source": [
    "# Restricción de asignación o uso de todo el capital"
   ]
  },
  {
   "cell_type": "markdown",
   "metadata": {},
   "source": [
    "Esta restricción consiste en constriñir el conjunto solución a portafolios que impliquen la asingación de todo el capital disponible. La función objetivo es la siguiente\n",
    "\n",
    "$$x*(\\phi) = \\text{min}\\frac{1}{2} x^T \\Sigma x - \\frac{1}{\\phi} \\mu^Tx $$\n",
    "\n",
    "y la restricción puede expresarse como\n",
    "\n",
    "$$ \\sum_{i=1}^n x_i = 1 $$\n",
    "\n",
    "o lo que es equivalente en notación matricial\n",
    "\n",
    "$$ \\boldsymbol{1}^T \\mu = 1$$\n",
    "\n",
    "Para obtener la solución utilizando esta restricción, es necesario utilizar un optimizador, pues hay que observar que las restricciones son lineales, lo que se presta a utilizar programación cuadrática. En este notebook usaremos el paquete CVXOPT para poder obtener las soluciones. Primero es necesario convertir $E$ y $g$ en matrices que puedan ser utilizadas en el optimizador:"
   ]
  },
  {
   "cell_type": "code",
   "execution_count": 25,
   "metadata": {},
   "outputs": [],
   "source": [
    "E_matriz = matrix(E)\n",
    "g_matriz = matrix(g)"
   ]
  },
  {
   "cell_type": "markdown",
   "metadata": {},
   "source": [
    "Obtenemos algunos parámetros necesarios:"
   ]
  },
  {
   "cell_type": "code",
   "execution_count": 21,
   "metadata": {},
   "outputs": [],
   "source": [
    "n = len(g)"
   ]
  },
  {
   "cell_type": "markdown",
   "metadata": {},
   "source": [
    "Y pasamos la restricción $ \\boldsymbol{1}^T \\mu = 1$ a la forma $A x = b$ para tener el planteamiento en la forma general de un problema de programación cuadrática:"
   ]
  },
  {
   "cell_type": "code",
   "execution_count": 22,
   "metadata": {},
   "outputs": [],
   "source": [
    "A = matrix(1.0, (1,n))\n",
    "b = matrix(1.0)"
   ]
  },
  {
   "cell_type": "markdown",
   "metadata": {},
   "source": [
    "También es necesario definir distintos valores del parámetro $\\phi$, recordando que a mayor este valor, menor será la aversión al riesgo del inversionista. Como queremos obtener la frontera óptima, es decir, inspeccionar el mejor portafolio para distintos niveles de riesgo, vamos a obtener la solución para distintas aversiones al riesgo (i.e. distintos valores de $\\phi$). Vamos a obtener entonces 100 valores de phi que van desde 0.1 (mucha aversión al riesgo) hasta 8900 (muy poca aversión al riesgo)"
   ]
  },
  {
   "cell_type": "code",
   "execution_count": 29,
   "metadata": {},
   "outputs": [],
   "source": [
    "N = 2000\n",
    "phis = [ 10**(5.0*t/N-1.0) for t in range(10000) ]"
   ]
  },
  {
   "cell_type": "code",
   "execution_count": 23,
   "metadata": {},
   "outputs": [],
   "source": [
    "phis = np.linspace(0.1, 20000, 5)"
   ]
  },
  {
   "cell_type": "code",
   "execution_count": 30,
   "metadata": {},
   "outputs": [
    {
     "data": {
      "text/plain": [
       "9.942600739529537e+23"
      ]
     },
     "execution_count": 30,
     "metadata": {},
     "output_type": "execute_result"
    }
   ],
   "source": [
    "np.max(phis)"
   ]
  },
  {
   "cell_type": "markdown",
   "metadata": {},
   "source": [
    "Ahora sí estamos en condiciones de meter los parámetros al optimizador y poder obtener la solución ($x*$) para cada valor de $\\phi$"
   ]
  },
  {
   "cell_type": "code",
   "execution_count": 31,
   "metadata": {},
   "outputs": [],
   "source": [
    "portfolios = [ qp(P = phi*E_matriz, q = -g_matriz,A= A, b =b)['x'] for phi in phis ]"
   ]
  },
  {
   "cell_type": "markdown",
   "metadata": {},
   "source": [
    "Cada uno de los elementos de la lista es la solución óptima para cada valor de $\\phi$, y es posible entonces cuantificar la ganancia $G$ y la varianza de dicha ganancia (o el cuadrado del riesgo del portafolio) $R^2$ para cada una de las soluciones obtenidas y entonces sí proceder a calcular la frontera óptima: "
   ]
  },
  {
   "cell_type": "code",
   "execution_count": 32,
   "metadata": {},
   "outputs": [],
   "source": [
    "returns = [ dot(g_matriz,x) for x in portfolios ]\n",
    "risks = [ sqrt(dot(x, E_matriz*x)) for x in portfolios ]"
   ]
  },
  {
   "cell_type": "markdown",
   "metadata": {},
   "source": [
    "Por último, es posible convertir estas listas a formato de numpy y hacer un data frame con los resultados, que es lo que hacemos a continuación:"
   ]
  },
  {
   "cell_type": "code",
   "execution_count": 33,
   "metadata": {},
   "outputs": [],
   "source": [
    "risks_df = np.array(risks)\n",
    "returns_df = np.array(returns)\n",
    "rest_todo_capital = pd.DataFrame(data = {\"riesgo\":risks_df,\"retorno\": returns_df, \"phi\": phis})"
   ]
  },
  {
   "cell_type": "code",
   "execution_count": 36,
   "metadata": {},
   "outputs": [
    {
     "data": {
      "text/plain": [
       "0.07870000395157695"
      ]
     },
     "execution_count": 36,
     "metadata": {},
     "output_type": "execute_result"
    }
   ],
   "source": [
    "np.max(returns_df)"
   ]
  },
  {
   "cell_type": "markdown",
   "metadata": {},
   "source": [
    "Podemos mostrar algunos de los resultados en el dataframe, donde es posible observar que se tiene la ganancia, el riesgo cuadrado y el valor de $\\phi$ para los distintos portafolios de la frontera óptima:"
   ]
  },
  {
   "cell_type": "code",
   "execution_count": 34,
   "metadata": {},
   "outputs": [
    {
     "data": {
      "text/html": [
       "<div>\n",
       "<style scoped>\n",
       "    .dataframe tbody tr th:only-of-type {\n",
       "        vertical-align: middle;\n",
       "    }\n",
       "\n",
       "    .dataframe tbody tr th {\n",
       "        vertical-align: top;\n",
       "    }\n",
       "\n",
       "    .dataframe thead th {\n",
       "        text-align: right;\n",
       "    }\n",
       "</style>\n",
       "<table border=\"1\" class=\"dataframe\">\n",
       "  <thead>\n",
       "    <tr style=\"text-align: right;\">\n",
       "      <th></th>\n",
       "      <th>riesgo</th>\n",
       "      <th>retorno</th>\n",
       "      <th>phi</th>\n",
       "    </tr>\n",
       "  </thead>\n",
       "  <tbody>\n",
       "    <tr>\n",
       "      <th>0</th>\n",
       "      <td>0.885983</td>\n",
       "      <td>0.078700</td>\n",
       "      <td>0.100000</td>\n",
       "    </tr>\n",
       "    <tr>\n",
       "      <th>1</th>\n",
       "      <td>0.880897</td>\n",
       "      <td>0.078249</td>\n",
       "      <td>0.100577</td>\n",
       "    </tr>\n",
       "    <tr>\n",
       "      <th>2</th>\n",
       "      <td>0.875841</td>\n",
       "      <td>0.077801</td>\n",
       "      <td>0.101158</td>\n",
       "    </tr>\n",
       "    <tr>\n",
       "      <th>3</th>\n",
       "      <td>0.870814</td>\n",
       "      <td>0.077356</td>\n",
       "      <td>0.101742</td>\n",
       "    </tr>\n",
       "    <tr>\n",
       "      <th>4</th>\n",
       "      <td>0.865816</td>\n",
       "      <td>0.076913</td>\n",
       "      <td>0.102329</td>\n",
       "    </tr>\n",
       "    <tr>\n",
       "      <th>5</th>\n",
       "      <td>0.860846</td>\n",
       "      <td>0.076473</td>\n",
       "      <td>0.102920</td>\n",
       "    </tr>\n",
       "    <tr>\n",
       "      <th>6</th>\n",
       "      <td>0.855905</td>\n",
       "      <td>0.076035</td>\n",
       "      <td>0.103514</td>\n",
       "    </tr>\n",
       "    <tr>\n",
       "      <th>7</th>\n",
       "      <td>0.850992</td>\n",
       "      <td>0.075600</td>\n",
       "      <td>0.104112</td>\n",
       "    </tr>\n",
       "    <tr>\n",
       "      <th>8</th>\n",
       "      <td>0.846108</td>\n",
       "      <td>0.075167</td>\n",
       "      <td>0.104713</td>\n",
       "    </tr>\n",
       "    <tr>\n",
       "      <th>9</th>\n",
       "      <td>0.841252</td>\n",
       "      <td>0.074737</td>\n",
       "      <td>0.105317</td>\n",
       "    </tr>\n",
       "  </tbody>\n",
       "</table>\n",
       "</div>"
      ],
      "text/plain": [
       "     riesgo   retorno       phi\n",
       "0  0.885983  0.078700  0.100000\n",
       "1  0.880897  0.078249  0.100577\n",
       "2  0.875841  0.077801  0.101158\n",
       "3  0.870814  0.077356  0.101742\n",
       "4  0.865816  0.076913  0.102329\n",
       "5  0.860846  0.076473  0.102920\n",
       "6  0.855905  0.076035  0.103514\n",
       "7  0.850992  0.075600  0.104112\n",
       "8  0.846108  0.075167  0.104713\n",
       "9  0.841252  0.074737  0.105317"
      ]
     },
     "execution_count": 34,
     "metadata": {},
     "output_type": "execute_result"
    }
   ],
   "source": [
    "rest_todo_capital.head(10)"
   ]
  },
  {
   "cell_type": "markdown",
   "metadata": {},
   "source": [
    "Ahora sí podemos graficar la frontera óptima:"
   ]
  },
  {
   "cell_type": "code",
   "execution_count": 35,
   "metadata": {},
   "outputs": [
    {
     "data": {
      "text/plain": [
       "Text(0, 0.5, 'Retorno %')"
      ]
     },
     "execution_count": 35,
     "metadata": {},
     "output_type": "execute_result"
    },
    {
     "data": {
      "image/png": "[encoded data removed]",
      "text/plain": [
       "<Figure size 720x504 with 1 Axes>"
      ]
     },
     "metadata": {
      "needs_background": "light"
     },
     "output_type": "display_data"
    }
   ],
   "source": [
    "ax = rest_todo_capital.plot.line(x=\"riesgo\", y=\"retorno\", title = \"Frontera Óptima Restricción de Alocación de todo el capital\", legend=False, figsize=(10,7))\n",
    "ax.set_xlabel(\"Riesgo %\")\n",
    "ax.set_ylabel(\"Retorno %\")"
   ]
  },
  {
   "cell_type": "markdown",
   "metadata": {},
   "source": [
    "Podemos observar que una vez más, si únicamente se utiliza esta restricción, el riesgo aumenta de forma proporcional a la ganancia sin que se vea un acercamiento a un valor asintótico. Esto se debe a que, aunque todas las soluciones cumplen con la restricción de asignación de todo el capital, aún se hace uso del apalancamiento y de las ventas en corto, lo que permite obtener virtualmente cualquier nivel de ganancia. \n",
    "\n",
    "Para verificar que las soluciones cumplen con la restricción establecida, inspeccionemos una de ella:"
   ]
  },
  {
   "cell_type": "code",
   "execution_count": 46,
   "metadata": {},
   "outputs": [
    {
     "data": {
      "text/plain": [
       "array([[  2.49280125],\n",
       "       [-16.10140173],\n",
       "       [ -5.45838155],\n",
       "       [ 20.06698203]])"
      ]
     },
     "execution_count": 46,
     "metadata": {},
     "output_type": "execute_result"
    }
   ],
   "source": [
    "np.array(portfolios[10])"
   ]
  },
  {
   "cell_type": "markdown",
   "metadata": {},
   "source": [
    "Podemos observar de nuevo la presencia de pesos mayores a 1 y negativos, sin embargo, si sumamos los pesos, obtenemos 1, justo como lo especificamos en la restricción."
   ]
  },
  {
   "cell_type": "code",
   "execution_count": 47,
   "metadata": {},
   "outputs": [
    {
     "data": {
      "text/plain": [
       "1.0000000000000142"
      ]
     },
     "execution_count": 47,
     "metadata": {},
     "output_type": "execute_result"
    }
   ],
   "source": [
    "np.array(portfolios[10]).sum()"
   ]
  },
  {
   "cell_type": "code",
   "execution_count": 20,
   "metadata": {
    "id": "V4GQx-9OiOU3"
   },
   "outputs": [],
   "source": [
    "risks_df = np.array(riesgo_ganancia_minima)\n",
    "returns_df = np.array(retornos_ganancia_minima)\n",
    "rest_todo_capital = pd.DataFrame(data = {\"riesgo\":risks_df,\"retorno\": returns_df})"
   ]
  },
  {
   "cell_type": "markdown",
   "metadata": {},
   "source": [
    "Notar que conforme disminuye el riesgo, también disminuyen los retornos y aumenta el valor de $\\phi$."
   ]
  },
  {
   "cell_type": "code",
   "execution_count": 13,
   "metadata": {
    "colab": {
     "base_uri": "https://localhost:8080/",
     "height": 206
    },
    "id": "aTiY6tIr4qRE",
    "outputId": "f0237a03-4d4e-4728-f18a-d7336eea1a35"
   },
   "outputs": [
    {
     "data": {
      "text/html": [
       "<div>\n",
       "<style scoped>\n",
       "    .dataframe tbody tr th:only-of-type {\n",
       "        vertical-align: middle;\n",
       "    }\n",
       "\n",
       "    .dataframe tbody tr th {\n",
       "        vertical-align: top;\n",
       "    }\n",
       "\n",
       "    .dataframe thead th {\n",
       "        text-align: right;\n",
       "    }\n",
       "</style>\n",
       "<table border=\"1\" class=\"dataframe\">\n",
       "  <thead>\n",
       "    <tr style=\"text-align: right;\">\n",
       "      <th></th>\n",
       "      <th>riesgo</th>\n",
       "      <th>retorno</th>\n",
       "      <th>phi</th>\n",
       "    </tr>\n",
       "  </thead>\n",
       "  <tbody>\n",
       "    <tr>\n",
       "      <th>95</th>\n",
       "      <td>0.004454</td>\n",
       "      <td>0.000189</td>\n",
       "      <td>5623.413252</td>\n",
       "    </tr>\n",
       "    <tr>\n",
       "      <th>96</th>\n",
       "      <td>0.004454</td>\n",
       "      <td>0.000189</td>\n",
       "      <td>6309.573445</td>\n",
       "    </tr>\n",
       "    <tr>\n",
       "      <th>97</th>\n",
       "      <td>0.004454</td>\n",
       "      <td>0.000188</td>\n",
       "      <td>7079.457844</td>\n",
       "    </tr>\n",
       "    <tr>\n",
       "      <th>98</th>\n",
       "      <td>0.004454</td>\n",
       "      <td>0.000188</td>\n",
       "      <td>7943.282347</td>\n",
       "    </tr>\n",
       "    <tr>\n",
       "      <th>99</th>\n",
       "      <td>0.004454</td>\n",
       "      <td>0.000188</td>\n",
       "      <td>8912.509381</td>\n",
       "    </tr>\n",
       "  </tbody>\n",
       "</table>\n",
       "</div>"
      ],
      "text/plain": [
       "      riesgo   retorno          phi\n",
       "95  0.004454  0.000189  5623.413252\n",
       "96  0.004454  0.000189  6309.573445\n",
       "97  0.004454  0.000188  7079.457844\n",
       "98  0.004454  0.000188  7943.282347\n",
       "99  0.004454  0.000188  8912.509381"
      ]
     },
     "execution_count": 13,
     "metadata": {},
     "output_type": "execute_result"
    }
   ],
   "source": [
    "rest_todo_capital.tail()"
   ]
  },
  {
   "cell_type": "markdown",
   "metadata": {
    "id": "t6Xm2aQ55AzZ"
   },
   "source": [
    "### Portafolio con Mayor Riesgo y Mayor Rendimiento"
   ]
  },
  {
   "cell_type": "markdown",
   "metadata": {
    "id": "3aY2ynkXrppq"
   },
   "source": [
    "A continuación se analiza el portafolio de mayor riesgo. La composición del portafolio en este caso sería la siguiente, observando que se utiliza fuertemente las ventas en corto y el apalancamiento, además de que la mayor posición larga es en el índice de precios y cotizaciones y la posición corta más fuerte es en el oro:"
   ]
  },
  {
   "cell_type": "code",
   "execution_count": 38,
   "metadata": {
    "colab": {
     "base_uri": "https://localhost:8080/"
    },
    "id": "dXOpxTXQkttF",
    "outputId": "ffe5c9b2-b9a5-4c1c-93d3-eb50b3bc4043"
   },
   "outputs": [
    {
     "data": {
      "text/plain": [
       "array([[  7.874],\n",
       "       [-51.511],\n",
       "       [-18.298],\n",
       "       [ 62.935]])"
      ]
     },
     "execution_count": 38,
     "metadata": {},
     "output_type": "execute_result"
    }
   ],
   "source": [
    "(np.round(portfolios[0], decimals = 3))"
   ]
  },
  {
   "cell_type": "markdown",
   "metadata": {},
   "source": [
    "El nivel de riesgo particular para este portafolio sería:"
   ]
  },
  {
   "cell_type": "code",
   "execution_count": 39,
   "metadata": {
    "colab": {
     "base_uri": "https://localhost:8080/"
    },
    "id": "6mCvV6cRk4GN",
    "outputId": "e7b17b38-3910-491d-cc61-8d706c362ab3"
   },
   "outputs": [
    {
     "data": {
      "text/plain": [
       "riesgo     0.885983\n",
       "retorno    0.078700\n",
       "phi        0.100000\n",
       "Name: 0, dtype: float64"
      ]
     },
     "execution_count": 39,
     "metadata": {},
     "output_type": "execute_result"
    }
   ],
   "source": [
    "rest_todo_capital.iloc[0]"
   ]
  },
  {
   "cell_type": "markdown",
   "metadata": {},
   "source": [
    "Constatamos manualmente que en efecto la ganancia del portafolio sea la que se guardó en el dataframe"
   ]
  },
  {
   "cell_type": "code",
   "execution_count": 41,
   "metadata": {
    "colab": {
     "base_uri": "https://localhost:8080/"
    },
    "id": "PiZ_ih6O5jg8",
    "outputId": "4671740d-2a4c-463c-c6dd-6783da87b475"
   },
   "outputs": [
    {
     "data": {
      "text/plain": [
       "array([0.0787])"
      ]
     },
     "execution_count": 41,
     "metadata": {},
     "output_type": "execute_result"
    }
   ],
   "source": [
    "g@ np.array(portfolios[0]) "
   ]
  },
  {
   "cell_type": "markdown",
   "metadata": {},
   "source": [
    "Ahora se analiza la restricción del portafolio con menor riesgo. Se puede observar que en este caso el riesgo es prácticamente 0, pero también el rendimiento es de prácticamente 0. Es posible observar también que la mayor posición larga en este caso es en la paridad peso dólar y la menor posición larga es en el Bitcoin. "
   ]
  },
  {
   "cell_type": "code",
   "execution_count": 42,
   "metadata": {
    "colab": {
     "base_uri": "https://localhost:8080/"
    },
    "id": "QPiENBbltn7D",
    "outputId": "d5d3ed20-bd95-42ff-c0bf-673a93f6f9e1"
   },
   "outputs": [
    {
     "data": {
      "text/plain": [
       "riesgo     4.291318e-03\n",
       "retorno    2.052897e-04\n",
       "phi        9.942601e+23\n",
       "Name: 9999, dtype: float64"
      ]
     },
     "execution_count": 42,
     "metadata": {},
     "output_type": "execute_result"
    }
   ],
   "source": [
    "rest_todo_capital.iloc[-1]"
   ]
  },
  {
   "cell_type": "code",
   "execution_count": 44,
   "metadata": {
    "colab": {
     "base_uri": "https://localhost:8080/"
    },
    "id": "azE1RC57tpI7",
    "outputId": "05fec5db-e303-4992-f5c2-0b330ea664ae"
   },
   "outputs": [
    {
     "data": {
      "text/plain": [
       "array([[0.004],\n",
       "       [0.275],\n",
       "       [0.48 ],\n",
       "       [0.242]])"
      ]
     },
     "execution_count": 44,
     "metadata": {},
     "output_type": "execute_result"
    }
   ],
   "source": [
    "np.round(portfolios[-1], decimals = 3)"
   ]
  },
  {
   "cell_type": "code",
   "execution_count": 45,
   "metadata": {
    "colab": {
     "base_uri": "https://localhost:8080/"
    },
    "id": "-9DhveDE5iot",
    "outputId": "e1171981-7ecd-42af-f2a5-5193850d580c"
   },
   "outputs": [
    {
     "data": {
      "text/plain": [
       "array([0.00020529])"
      ]
     },
     "execution_count": 45,
     "metadata": {},
     "output_type": "execute_result"
    }
   ],
   "source": [
    "g@ np.array(portfolios[-1]) "
   ]
  },
  {
   "cell_type": "markdown",
   "metadata": {
    "id": "ow_lWKO954_1"
   },
   "source": [
    "# Restricción de No Ventas en Corto\n"
   ]
  },
  {
   "cell_type": "markdown",
   "metadata": {},
   "source": [
    "Esta restricción consiste en no permitir ventas en corto, es decir, que no existan pesos con magnitud negativa en las soluciones obtenidas. Esta restricción se implementa mediante una restricción lineal en la que se fuerza a que todos los pesos de la solución deben ser 0 o positivos"
   ]
  },
  {
   "cell_type": "code",
   "execution_count": 53,
   "metadata": {
    "id": "IEYoQL0A6Ac5"
   },
   "outputs": [],
   "source": [
    "# Problem data.\n",
    "n = len(g)\n",
    "\n",
    "# Restriccioń de no ventas en corto\n",
    "# G es la matriz identidad y tiene que ver con la restricción x >= 0 (parte derecha G x)\n",
    "G = matrix(0.0, (n,n))\n",
    "G[::n+1] = -1.0\n",
    "# h es un vector de ceros y es el lado derecho de la restriccioń x >= 0\n",
    "h = matrix(0.0, (n,1))\n",
    "\n",
    "# Definición de número de valores de phi que se van a calcular.\n",
    "N = 2000\n",
    "# mu es el riesgo que se está dispuesto a tomar (mientras más bajo sea, más riesgo se está dispuesto a tomar)\n",
    "# un valor de este mu de 0 indica que no importa el riesgo, solo se busca el mayor valor esperado\n",
    "# un valor de mu que sea muy grande indica que no se quiere tomar riesgo. \n",
    "phis = [ 10**(5.0*t/N-1.0) for t in range(N) ]\n",
    "portfolios = [ qp(phi*E_matriz, -g_matriz, G = G, h = h)['x'] for phi in phis ]\n",
    "\n",
    "returns = [ dot(g_matriz,x) for x in portfolios ]\n",
    "risks = [ sqrt(dot(x, E_matriz*x)) for x in portfolios ]\n"
   ]
  },
  {
   "cell_type": "code",
   "execution_count": 54,
   "metadata": {
    "id": "UXer9o-z6sBJ"
   },
   "outputs": [],
   "source": [
    "risks_df = np.array(risks)\n",
    "returns_df = np.array(returns)\n",
    "rest_ventas_corto = pd.DataFrame(data = {\"riesgo\":risks_df,\"retorno\": returns_df, \"phi\": phis})"
   ]
  },
  {
   "cell_type": "markdown",
   "metadata": {},
   "source": [
    "A continuación es posible ver los riesgos y rendimientos de los portafolios más y menos riesgosos"
   ]
  },
  {
   "cell_type": "code",
   "execution_count": 55,
   "metadata": {
    "colab": {
     "base_uri": "https://localhost:8080/",
     "height": 206
    },
    "id": "x4hV0c6V6sBJ",
    "outputId": "9e0e4975-e067-404b-8eee-b5a2eec06092"
   },
   "outputs": [
    {
     "data": {
      "text/html": [
       "<div>\n",
       "<style scoped>\n",
       "    .dataframe tbody tr th:only-of-type {\n",
       "        vertical-align: middle;\n",
       "    }\n",
       "\n",
       "    .dataframe tbody tr th {\n",
       "        vertical-align: top;\n",
       "    }\n",
       "\n",
       "    .dataframe thead th {\n",
       "        text-align: right;\n",
       "    }\n",
       "</style>\n",
       "<table border=\"1\" class=\"dataframe\">\n",
       "  <thead>\n",
       "    <tr style=\"text-align: right;\">\n",
       "      <th></th>\n",
       "      <th>riesgo</th>\n",
       "      <th>retorno</th>\n",
       "      <th>phi</th>\n",
       "    </tr>\n",
       "  </thead>\n",
       "  <tbody>\n",
       "    <tr>\n",
       "      <th>0</th>\n",
       "      <td>0.987990</td>\n",
       "      <td>0.097612</td>\n",
       "      <td>0.100000</td>\n",
       "    </tr>\n",
       "    <tr>\n",
       "      <th>1</th>\n",
       "      <td>0.982319</td>\n",
       "      <td>0.097052</td>\n",
       "      <td>0.100577</td>\n",
       "    </tr>\n",
       "    <tr>\n",
       "      <th>2</th>\n",
       "      <td>0.976681</td>\n",
       "      <td>0.096495</td>\n",
       "      <td>0.101158</td>\n",
       "    </tr>\n",
       "    <tr>\n",
       "      <th>3</th>\n",
       "      <td>0.971075</td>\n",
       "      <td>0.095941</td>\n",
       "      <td>0.101742</td>\n",
       "    </tr>\n",
       "    <tr>\n",
       "      <th>4</th>\n",
       "      <td>0.965501</td>\n",
       "      <td>0.095391</td>\n",
       "      <td>0.102329</td>\n",
       "    </tr>\n",
       "  </tbody>\n",
       "</table>\n",
       "</div>"
      ],
      "text/plain": [
       "     riesgo   retorno       phi\n",
       "0  0.987990  0.097612  0.100000\n",
       "1  0.982319  0.097052  0.100577\n",
       "2  0.976681  0.096495  0.101158\n",
       "3  0.971075  0.095941  0.101742\n",
       "4  0.965501  0.095391  0.102329"
      ]
     },
     "execution_count": 55,
     "metadata": {},
     "output_type": "execute_result"
    }
   ],
   "source": [
    "rest_ventas_corto.head()"
   ]
  },
  {
   "cell_type": "code",
   "execution_count": 56,
   "metadata": {
    "colab": {
     "base_uri": "https://localhost:8080/",
     "height": 206
    },
    "id": "XrR-6i1P6sBK",
    "outputId": "b62a026a-bac2-4857-d7a1-265eade96bb0"
   },
   "outputs": [
    {
     "data": {
      "text/html": [
       "<div>\n",
       "<style scoped>\n",
       "    .dataframe tbody tr th:only-of-type {\n",
       "        vertical-align: middle;\n",
       "    }\n",
       "\n",
       "    .dataframe tbody tr th {\n",
       "        vertical-align: top;\n",
       "    }\n",
       "\n",
       "    .dataframe thead th {\n",
       "        text-align: right;\n",
       "    }\n",
       "</style>\n",
       "<table border=\"1\" class=\"dataframe\">\n",
       "  <thead>\n",
       "    <tr style=\"text-align: right;\">\n",
       "      <th></th>\n",
       "      <th>riesgo</th>\n",
       "      <th>retorno</th>\n",
       "      <th>phi</th>\n",
       "    </tr>\n",
       "  </thead>\n",
       "  <tbody>\n",
       "    <tr>\n",
       "      <th>1995</th>\n",
       "      <td>0.00001</td>\n",
       "      <td>1.011421e-06</td>\n",
       "      <td>9716.279516</td>\n",
       "    </tr>\n",
       "    <tr>\n",
       "      <th>1996</th>\n",
       "      <td>0.00001</td>\n",
       "      <td>1.005729e-06</td>\n",
       "      <td>9772.372210</td>\n",
       "    </tr>\n",
       "    <tr>\n",
       "      <th>1997</th>\n",
       "      <td>0.00001</td>\n",
       "      <td>1.000070e-06</td>\n",
       "      <td>9828.788730</td>\n",
       "    </tr>\n",
       "    <tr>\n",
       "      <th>1998</th>\n",
       "      <td>0.00001</td>\n",
       "      <td>9.944438e-07</td>\n",
       "      <td>9885.530947</td>\n",
       "    </tr>\n",
       "    <tr>\n",
       "      <th>1999</th>\n",
       "      <td>0.00001</td>\n",
       "      <td>9.888506e-07</td>\n",
       "      <td>9942.600740</td>\n",
       "    </tr>\n",
       "  </tbody>\n",
       "</table>\n",
       "</div>"
      ],
      "text/plain": [
       "       riesgo       retorno          phi\n",
       "1995  0.00001  1.011421e-06  9716.279516\n",
       "1996  0.00001  1.005729e-06  9772.372210\n",
       "1997  0.00001  1.000070e-06  9828.788730\n",
       "1998  0.00001  9.944438e-07  9885.530947\n",
       "1999  0.00001  9.888506e-07  9942.600740"
      ]
     },
     "execution_count": 56,
     "metadata": {},
     "output_type": "execute_result"
    }
   ],
   "source": [
    "rest_ventas_corto.tail()"
   ]
  },
  {
   "cell_type": "code",
   "execution_count": 57,
   "metadata": {
    "colab": {
     "base_uri": "https://localhost:8080/",
     "height": 477
    },
    "id": "wMrdg6co6sBL",
    "outputId": "bf5ec39b-8e21-4597-a71d-cc2cab287f4e"
   },
   "outputs": [
    {
     "data": {
      "text/plain": [
       "Text(0, 0.5, 'Retorno %')"
      ]
     },
     "execution_count": 57,
     "metadata": {},
     "output_type": "execute_result"
    },
    {
     "data": {
      "image/png": "[encoded data removed]",
      "text/plain": [
       "<Figure size 720x504 with 1 Axes>"
      ]
     },
     "metadata": {
      "needs_background": "light"
     },
     "output_type": "display_data"
    }
   ],
   "source": [
    "ax = rest_todo_capital.plot.line(x=\"riesgo\", y=\"retorno\", title = \"Frontera Óptima Restricción No Ventas en Corto\", legend=False, figsize=(10,7))\n",
    "ax.set_xlabel(\"Riesgo %\")\n",
    "ax.set_ylabel(\"Retorno %\")"
   ]
  },
  {
   "cell_type": "markdown",
   "metadata": {},
   "source": [
    "Se procede a analizar el portafolio con más retorno, notándo que la mayor posición larga se tiene en el IPC"
   ]
  },
  {
   "cell_type": "code",
   "execution_count": 60,
   "metadata": {
    "colab": {
     "base_uri": "https://localhost:8080/"
    },
    "id": "78wSAu3L6sBL",
    "outputId": "22e97db5-2d38-4ce0-e486-d6d4ff509e07"
   },
   "outputs": [
    {
     "data": {
      "text/plain": [
       "array([[ 8.617],\n",
       "       [ 0.   ],\n",
       "       [40.218],\n",
       "       [89.159]])"
      ]
     },
     "execution_count": 60,
     "metadata": {},
     "output_type": "execute_result"
    }
   ],
   "source": [
    "np.round(portfolios[0], decimals = 3)"
   ]
  },
  {
   "cell_type": "code",
   "execution_count": 61,
   "metadata": {
    "colab": {
     "base_uri": "https://localhost:8080/"
    },
    "id": "lNf-mH3g6sBM",
    "outputId": "ecc180d3-d304-4471-c798-9c73e2d930f4"
   },
   "outputs": [
    {
     "data": {
      "text/plain": [
       "riesgo     0.987990\n",
       "retorno    0.097612\n",
       "phi        0.100000\n",
       "Name: 0, dtype: float64"
      ]
     },
     "execution_count": 61,
     "metadata": {},
     "output_type": "execute_result"
    }
   ],
   "source": [
    "rest_ventas_corto.iloc[0]"
   ]
  },
  {
   "cell_type": "code",
   "execution_count": 62,
   "metadata": {
    "colab": {
     "base_uri": "https://localhost:8080/"
    },
    "id": "eUNA6QxB6sBM",
    "outputId": "41ffc3dd-6cbc-4191-c426-7c2fe676619c"
   },
   "outputs": [
    {
     "data": {
      "text/plain": [
       "array([0.09761247])"
      ]
     },
     "execution_count": 62,
     "metadata": {},
     "output_type": "execute_result"
    }
   ],
   "source": [
    "g@ np.array(portfolios[0]) "
   ]
  },
  {
   "cell_type": "markdown",
   "metadata": {},
   "source": [
    "Se analiza a continuación el portafolio de menor retorno. notándo que al no restringir la solución para que se inverta el capital y al notar que todos los activos en el portafolio tienen un nivel de riesgo, la solución entonces es no invertir."
   ]
  },
  {
   "cell_type": "code",
   "execution_count": 64,
   "metadata": {
    "colab": {
     "base_uri": "https://localhost:8080/"
    },
    "id": "lr8rN_Pm6sBN",
    "outputId": "ec70bbd0-9502-49b4-8a86-b63aa214b3ad"
   },
   "outputs": [
    {
     "data": {
      "text/plain": [
       "riesgo     1.023487e-05\n",
       "retorno    9.888506e-07\n",
       "phi        9.942601e+03\n",
       "Name: 1999, dtype: float64"
      ]
     },
     "execution_count": 64,
     "metadata": {},
     "output_type": "execute_result"
    }
   ],
   "source": [
    "rest_ventas_corto.iloc[-1]"
   ]
  },
  {
   "cell_type": "markdown",
   "metadata": {
    "id": "sut2Frxh7IZP"
   },
   "source": [
    "Notar que el retorno es mucho más bajo debido a que se quitó la restriccioń de tener que utilizar todo el capital"
   ]
  },
  {
   "cell_type": "code",
   "execution_count": 65,
   "metadata": {
    "colab": {
     "base_uri": "https://localhost:8080/"
    },
    "id": "zq3WG2fz6sBN",
    "outputId": "50b54543-3768-4307-b803-fafe97325264"
   },
   "outputs": [
    {
     "data": {
      "text/plain": [
       "array([[0.   ],\n",
       "       [0.   ],\n",
       "       [0.001],\n",
       "       [0.001]])"
      ]
     },
     "execution_count": 65,
     "metadata": {},
     "output_type": "execute_result"
    }
   ],
   "source": [
    "np.round(portfolios[-1], decimals = 3)"
   ]
  },
  {
   "cell_type": "code",
   "execution_count": 66,
   "metadata": {
    "colab": {
     "base_uri": "https://localhost:8080/"
    },
    "id": "jDffiFgZ6sBO",
    "outputId": "99cfaad3-f5f2-4cff-b471-62eaa1494f4b"
   },
   "outputs": [
    {
     "data": {
      "text/plain": [
       "array([9.88850569e-07])"
      ]
     },
     "execution_count": 66,
     "metadata": {},
     "output_type": "execute_result"
    }
   ],
   "source": [
    "g@ np.array(portfolios[-1]) "
   ]
  },
  {
   "cell_type": "markdown",
   "metadata": {
    "id": "jQcX6VhI7UbC"
   },
   "source": [
    "# Restricción de No Apalancamiento\n",
    "\n",
    "Esta restricción se implementa de forma indirecta, pues implementar la restricción de alocación de todo el capital más la restricción de no ventas en corto equivale a implementar la restricción de no apalancamiento"
   ]
  },
  {
   "cell_type": "code",
   "execution_count": 32,
   "metadata": {
    "id": "2cmqlTeh7UbD"
   },
   "outputs": [],
   "source": [
    "# Problem data.\n",
    "n = len(g)\n",
    "# Restriccioń de no ventas en corto\n",
    "# G es la matriz identidad y tiene que ver con la restricción x >= 0 (parte derecha G x)\n",
    "G = matrix(0.0, (n,n))\n",
    "G[::n+1] = -1.0\n",
    "# h es un vector de ceros y es el lado derecho de la restriccioń x >= 0\n",
    "h = matrix(0.0, (n,1))\n",
    "\n",
    "## Restriccioń de alocacioń de todo el capital\n",
    "# Esta matriz tiene que ver con la rstricción 1T x = 1 y es una matriz (o mas bien vector) de 1 (parte izq)\n",
    "A = matrix(1.0, (1,n))\n",
    "# es escalar 1 que es la parte derecha de 1T x = 1\n",
    "b = matrix(1.0)\n",
    "\n",
    "# Definición de número de valores de phi que se van a calcular.\n",
    "N = 100\n",
    "phis = [ 10**(5.0*t/N-1.0) for t in range(N) ]\n",
    "portfolios = [ qp(phi*S, -pbar, G, h, A, b)['x'] for phi in phis ]\n",
    "\n",
    "\n",
    "returns = [ dot(pbar,x) for x in portfolios ]\n",
    "risks = [ sqrt(dot(x, S*x)) for x in portfolios ]"
   ]
  },
  {
   "cell_type": "code",
   "execution_count": 33,
   "metadata": {
    "id": "jG-z3jLg7UbE"
   },
   "outputs": [],
   "source": [
    "risks_df = np.array(risks)\n",
    "returns_df = np.array(returns)\n",
    "rest_apalancamiento = pd.DataFrame(data = {\"riesgo\":risks_df,\"retorno\": returns_df, \"phi\": phis})"
   ]
  },
  {
   "cell_type": "code",
   "execution_count": 34,
   "metadata": {
    "colab": {
     "base_uri": "https://localhost:8080/",
     "height": 206
    },
    "id": "GuqjyXDt7UbE",
    "outputId": "38e090b1-1c03-4841-8d41-8020fe230ff9"
   },
   "outputs": [
    {
     "data": {
      "text/html": [
       "<div>\n",
       "<style scoped>\n",
       "    .dataframe tbody tr th:only-of-type {\n",
       "        vertical-align: middle;\n",
       "    }\n",
       "\n",
       "    .dataframe tbody tr th {\n",
       "        vertical-align: top;\n",
       "    }\n",
       "\n",
       "    .dataframe thead th {\n",
       "        text-align: right;\n",
       "    }\n",
       "</style>\n",
       "<table border=\"1\" class=\"dataframe\">\n",
       "  <thead>\n",
       "    <tr style=\"text-align: right;\">\n",
       "      <th></th>\n",
       "      <th>riesgo</th>\n",
       "      <th>retorno</th>\n",
       "      <th>phi</th>\n",
       "    </tr>\n",
       "  </thead>\n",
       "  <tbody>\n",
       "    <tr>\n",
       "      <th>0</th>\n",
       "      <td>0.052019</td>\n",
       "      <td>0.004749</td>\n",
       "      <td>0.100000</td>\n",
       "    </tr>\n",
       "    <tr>\n",
       "      <th>1</th>\n",
       "      <td>0.052019</td>\n",
       "      <td>0.004749</td>\n",
       "      <td>0.112202</td>\n",
       "    </tr>\n",
       "    <tr>\n",
       "      <th>2</th>\n",
       "      <td>0.052019</td>\n",
       "      <td>0.004749</td>\n",
       "      <td>0.125893</td>\n",
       "    </tr>\n",
       "    <tr>\n",
       "      <th>3</th>\n",
       "      <td>0.052019</td>\n",
       "      <td>0.004749</td>\n",
       "      <td>0.141254</td>\n",
       "    </tr>\n",
       "    <tr>\n",
       "      <th>4</th>\n",
       "      <td>0.052019</td>\n",
       "      <td>0.004749</td>\n",
       "      <td>0.158489</td>\n",
       "    </tr>\n",
       "  </tbody>\n",
       "</table>\n",
       "</div>"
      ],
      "text/plain": [
       "     riesgo   retorno       phi\n",
       "0  0.052019  0.004749  0.100000\n",
       "1  0.052019  0.004749  0.112202\n",
       "2  0.052019  0.004749  0.125893\n",
       "3  0.052019  0.004749  0.141254\n",
       "4  0.052019  0.004749  0.158489"
      ]
     },
     "execution_count": 34,
     "metadata": {},
     "output_type": "execute_result"
    }
   ],
   "source": [
    "rest_apalancamiento.head()"
   ]
  },
  {
   "cell_type": "code",
   "execution_count": 35,
   "metadata": {
    "colab": {
     "base_uri": "https://localhost:8080/",
     "height": 206
    },
    "id": "R-78Wwmn7UbF",
    "outputId": "621ada7d-5a41-4464-b7e6-52084638c3b9"
   },
   "outputs": [
    {
     "data": {
      "text/html": [
       "<div>\n",
       "<style scoped>\n",
       "    .dataframe tbody tr th:only-of-type {\n",
       "        vertical-align: middle;\n",
       "    }\n",
       "\n",
       "    .dataframe tbody tr th {\n",
       "        vertical-align: top;\n",
       "    }\n",
       "\n",
       "    .dataframe thead th {\n",
       "        text-align: right;\n",
       "    }\n",
       "</style>\n",
       "<table border=\"1\" class=\"dataframe\">\n",
       "  <thead>\n",
       "    <tr style=\"text-align: right;\">\n",
       "      <th></th>\n",
       "      <th>riesgo</th>\n",
       "      <th>retorno</th>\n",
       "      <th>phi</th>\n",
       "    </tr>\n",
       "  </thead>\n",
       "  <tbody>\n",
       "    <tr>\n",
       "      <th>95</th>\n",
       "      <td>0.004454</td>\n",
       "      <td>0.000189</td>\n",
       "      <td>5623.413252</td>\n",
       "    </tr>\n",
       "    <tr>\n",
       "      <th>96</th>\n",
       "      <td>0.004454</td>\n",
       "      <td>0.000189</td>\n",
       "      <td>6309.573445</td>\n",
       "    </tr>\n",
       "    <tr>\n",
       "      <th>97</th>\n",
       "      <td>0.004454</td>\n",
       "      <td>0.000188</td>\n",
       "      <td>7079.457844</td>\n",
       "    </tr>\n",
       "    <tr>\n",
       "      <th>98</th>\n",
       "      <td>0.004454</td>\n",
       "      <td>0.000188</td>\n",
       "      <td>7943.282347</td>\n",
       "    </tr>\n",
       "    <tr>\n",
       "      <th>99</th>\n",
       "      <td>0.004454</td>\n",
       "      <td>0.000188</td>\n",
       "      <td>8912.509381</td>\n",
       "    </tr>\n",
       "  </tbody>\n",
       "</table>\n",
       "</div>"
      ],
      "text/plain": [
       "      riesgo   retorno          phi\n",
       "95  0.004454  0.000189  5623.413252\n",
       "96  0.004454  0.000189  6309.573445\n",
       "97  0.004454  0.000188  7079.457844\n",
       "98  0.004454  0.000188  7943.282347\n",
       "99  0.004454  0.000188  8912.509381"
      ]
     },
     "execution_count": 35,
     "metadata": {},
     "output_type": "execute_result"
    }
   ],
   "source": [
    "rest_apalancamiento.tail()"
   ]
  },
  {
   "cell_type": "code",
   "execution_count": 36,
   "metadata": {
    "colab": {
     "base_uri": "https://localhost:8080/",
     "height": 477
    },
    "id": "4bdgfupK7UbF",
    "outputId": "1c0c2e9f-ad5f-4d4c-b463-6d53793513b5"
   },
   "outputs": [
    {
     "data": {
      "text/plain": [
       "Text(0, 0.5, 'Retorno %')"
      ]
     },
     "execution_count": 36,
     "metadata": {},
     "output_type": "execute_result"
    },
    {
     "data": {
      "image/png": "[encoded data removed]",
      "text/plain": [
       "<Figure size 720x504 with 1 Axes>"
      ]
     },
     "metadata": {
      "needs_background": "light"
     },
     "output_type": "display_data"
    }
   ],
   "source": [
    "ax = rest_apalancamiento.plot.line(x=\"riesgo\", y=\"retorno\", title = \"Frontera Óptima Restricción No Apalancamiento\", legend=False, figsize=(10,7))\n",
    "ax.set_xlabel(\"Riesgo %\")\n",
    "ax.set_ylabel(\"Retorno %\")"
   ]
  },
  {
   "cell_type": "code",
   "execution_count": 37,
   "metadata": {
    "colab": {
     "base_uri": "https://localhost:8080/"
    },
    "id": "fDXwbeIL7UbG",
    "outputId": "4f07a0a1-53bf-422d-9a41-034198bd2295"
   },
   "outputs": [
    {
     "data": {
      "text/plain": [
       "array([[1.],\n",
       "       [0.],\n",
       "       [0.],\n",
       "       [0.]])"
      ]
     },
     "execution_count": 37,
     "metadata": {},
     "output_type": "execute_result"
    }
   ],
   "source": [
    "np.round(portfolios[0], decimals = 3)"
   ]
  },
  {
   "cell_type": "code",
   "execution_count": 38,
   "metadata": {
    "colab": {
     "base_uri": "https://localhost:8080/"
    },
    "id": "obMsFvG_7UbG",
    "outputId": "3c241dc3-5cb8-4723-e482-268310e5fc6b"
   },
   "outputs": [
    {
     "data": {
      "text/plain": [
       "riesgo     0.052019\n",
       "retorno    0.004749\n",
       "phi        0.100000\n",
       "Name: 0, dtype: float64"
      ]
     },
     "execution_count": 38,
     "metadata": {},
     "output_type": "execute_result"
    }
   ],
   "source": [
    "rest_apalancamiento.iloc[0]"
   ]
  },
  {
   "cell_type": "code",
   "execution_count": 39,
   "metadata": {
    "colab": {
     "base_uri": "https://localhost:8080/"
    },
    "id": "sWOtDp1N7UbH",
    "outputId": "638e82cb-6af6-4f82-93a2-83684bf9cea7"
   },
   "outputs": [
    {
     "data": {
      "text/plain": [
       "array([0.00474932])"
      ]
     },
     "execution_count": 39,
     "metadata": {},
     "output_type": "execute_result"
    }
   ],
   "source": [
    "g@ np.array(portfolios[0]) "
   ]
  },
  {
   "cell_type": "code",
   "execution_count": 40,
   "metadata": {
    "colab": {
     "base_uri": "https://localhost:8080/"
    },
    "id": "NgfNT0pu7UbH",
    "outputId": "b421ce5e-e73b-465a-85a4-648d5ee59bf1"
   },
   "outputs": [
    {
     "data": {
      "text/plain": [
       "riesgo        0.004454\n",
       "retorno       0.000188\n",
       "phi        8912.509381\n",
       "Name: 99, dtype: float64"
      ]
     },
     "execution_count": 40,
     "metadata": {},
     "output_type": "execute_result"
    }
   ],
   "source": [
    "rest_apalancamiento.iloc[-1]"
   ]
  },
  {
   "cell_type": "code",
   "execution_count": 41,
   "metadata": {
    "colab": {
     "base_uri": "https://localhost:8080/"
    },
    "id": "tmOAcITt7UbI",
    "outputId": "88899165-2c84-48a2-8bb6-e42b4a29b7fc"
   },
   "outputs": [
    {
     "data": {
      "text/plain": [
       "array([[0.008],\n",
       "       [0.269],\n",
       "       [0.486],\n",
       "       [0.236]])"
      ]
     },
     "execution_count": 41,
     "metadata": {},
     "output_type": "execute_result"
    }
   ],
   "source": [
    "np.round(portfolios[-1], decimals = 3)"
   ]
  },
  {
   "cell_type": "code",
   "execution_count": 42,
   "metadata": {
    "colab": {
     "base_uri": "https://localhost:8080/"
    },
    "id": "1uew_Cu07UbI",
    "outputId": "4ee9e981-ed45-4818-8928-ce4e66ed0dd0"
   },
   "outputs": [
    {
     "data": {
      "text/plain": [
       "array([0.00018806])"
      ]
     },
     "execution_count": 42,
     "metadata": {},
     "output_type": "execute_result"
    }
   ],
   "source": [
    "g@ np.array(portfolios[-1]) "
   ]
  },
  {
   "cell_type": "markdown",
   "metadata": {
    "id": "IR_fTVBv_7GI"
   },
   "source": [
    "# Restricción de activo libre de riesgo\n",
    "\n",
    "Notar que para poder aplicar la solución analítica, se está estableciendo de forma implicita la restricción de alocación de todo el capital.  "
   ]
  },
  {
   "cell_type": "code",
   "execution_count": 43,
   "metadata": {
    "id": "nOthpqCv_6XZ"
   },
   "outputs": [],
   "source": [
    "\n",
    "S_con_riesgo = matrix(\n",
    "    [[ 0.002706, -0.000033, -1.916605e-05\t,6.999402e-05, 0],\n",
    "    [ -0.000033\t, 0.000091, -1.038888e-05\t,2.299984e-06, 0],\n",
    "    [-0.000019\t, -0.000010\t, 4.653256e-05\t,5.655895e-07, 0],\n",
    "    [ 0.000070,0.000002\t,5.655895e-07\t,7.788368e-05, 0],\n",
    "     [ 0,0,0\t,0, 0]])\n",
    "\n",
    "\n",
    "# rendimiento del activo libre de riesgo\n",
    "# se asume que la varianza del activo libre de riesgo es 0 y su covarianza con los\n",
    "# otros activos también es 0\n",
    "r = 0.00001"
   ]
  },
  {
   "cell_type": "code",
   "execution_count": 44,
   "metadata": {
    "id": "z1YQLYthDA_H"
   },
   "outputs": [],
   "source": [
    "def pesos_activos_riesgo(phi):\n",
    "  pesos_riesgo = ((1/phi) * np.linalg.inv(S) @ \n",
    "                  (pbar.T - (r *np.repeat(1,4))).T )\n",
    "  peso_act_libre =1 - pesos_riesgo.sum()\n",
    "  return np.append(pesos_riesgo,peso_act_libre)\n"
   ]
  },
  {
   "cell_type": "code",
   "execution_count": 45,
   "metadata": {
    "id": "KYvQ6IuwDooM"
   },
   "outputs": [],
   "source": [
    "pesos_riesgo = [ pesos_activos_riesgo(phi) for phi in phis ]"
   ]
  },
  {
   "cell_type": "code",
   "execution_count": 46,
   "metadata": {
    "colab": {
     "base_uri": "https://localhost:8080/"
    },
    "id": "g7ToMXg1D7DF",
    "outputId": "4511ef72-6241-473f-8b11-5db698944d23"
   },
   "outputs": [
    {
     "data": {
      "text/plain": [
       "1.0"
      ]
     },
     "execution_count": 46,
     "metadata": {},
     "output_type": "execute_result"
    }
   ],
   "source": [
    "# verificando que la suma de los pesos es uno\n",
    "pesos_riesgo[0].sum()"
   ]
  },
  {
   "cell_type": "code",
   "execution_count": 47,
   "metadata": {
    "id": "vJ1FVh5eECwy"
   },
   "outputs": [],
   "source": [
    "rest_libre_riesgo = np.zeros((100,3))\n",
    "rest_libre_riesgo[:,2] = phis\n",
    "for i in range(100):\n",
    "  rend = pesos_riesgo[i] @ np.append(pbar, r)\n",
    "  risk = float(np.array(pesos_riesgo[i]).reshape(5,1).T @ S_con_riesgo @ np.array(pesos_riesgo[i]).reshape(5,1)) \n",
    "  rest_libre_riesgo[i,0] = rend\n",
    "  rest_libre_riesgo[i,1] = risk\n",
    "rest_libre_riesgo = pd.DataFrame(data = {\"riesgo\":rest_libre_riesgo[:,1],\"retorno\": rest_libre_riesgo[:,0], \"phi\": rest_libre_riesgo[:,2]})"
   ]
  },
  {
   "cell_type": "code",
   "execution_count": 48,
   "metadata": {
    "colab": {
     "base_uri": "https://localhost:8080/",
     "height": 206
    },
    "id": "cckh6-YOI0rn",
    "outputId": "2127d35a-d690-480e-c325-d4d03fe221ba"
   },
   "outputs": [
    {
     "data": {
      "text/html": [
       "<div>\n",
       "<style scoped>\n",
       "    .dataframe tbody tr th:only-of-type {\n",
       "        vertical-align: middle;\n",
       "    }\n",
       "\n",
       "    .dataframe tbody tr th {\n",
       "        vertical-align: top;\n",
       "    }\n",
       "\n",
       "    .dataframe thead th {\n",
       "        text-align: right;\n",
       "    }\n",
       "</style>\n",
       "<table border=\"1\" class=\"dataframe\">\n",
       "  <thead>\n",
       "    <tr style=\"text-align: right;\">\n",
       "      <th></th>\n",
       "      <th>riesgo</th>\n",
       "      <th>retorno</th>\n",
       "      <th>phi</th>\n",
       "    </tr>\n",
       "  </thead>\n",
       "  <tbody>\n",
       "    <tr>\n",
       "      <th>0</th>\n",
       "      <td>1.496787</td>\n",
       "      <td>0.149689</td>\n",
       "      <td>0.100000</td>\n",
       "    </tr>\n",
       "    <tr>\n",
       "      <th>1</th>\n",
       "      <td>1.188940</td>\n",
       "      <td>0.133411</td>\n",
       "      <td>0.112202</td>\n",
       "    </tr>\n",
       "    <tr>\n",
       "      <th>2</th>\n",
       "      <td>0.944409</td>\n",
       "      <td>0.118904</td>\n",
       "      <td>0.125893</td>\n",
       "    </tr>\n",
       "    <tr>\n",
       "      <th>3</th>\n",
       "      <td>0.750170</td>\n",
       "      <td>0.105974</td>\n",
       "      <td>0.141254</td>\n",
       "    </tr>\n",
       "    <tr>\n",
       "      <th>4</th>\n",
       "      <td>0.595882</td>\n",
       "      <td>0.094451</td>\n",
       "      <td>0.158489</td>\n",
       "    </tr>\n",
       "  </tbody>\n",
       "</table>\n",
       "</div>"
      ],
      "text/plain": [
       "     riesgo   retorno       phi\n",
       "0  1.496787  0.149689  0.100000\n",
       "1  1.188940  0.133411  0.112202\n",
       "2  0.944409  0.118904  0.125893\n",
       "3  0.750170  0.105974  0.141254\n",
       "4  0.595882  0.094451  0.158489"
      ]
     },
     "execution_count": 48,
     "metadata": {},
     "output_type": "execute_result"
    }
   ],
   "source": [
    "rest_libre_riesgo.head()"
   ]
  },
  {
   "cell_type": "code",
   "execution_count": 49,
   "metadata": {
    "colab": {
     "base_uri": "https://localhost:8080/",
     "height": 206
    },
    "id": "muqL-YIDNxfa",
    "outputId": "7572582d-5476-4b69-92da-f62afd69baf9"
   },
   "outputs": [
    {
     "data": {
      "text/html": [
       "<div>\n",
       "<style scoped>\n",
       "    .dataframe tbody tr th:only-of-type {\n",
       "        vertical-align: middle;\n",
       "    }\n",
       "\n",
       "    .dataframe tbody tr th {\n",
       "        vertical-align: top;\n",
       "    }\n",
       "\n",
       "    .dataframe thead th {\n",
       "        text-align: right;\n",
       "    }\n",
       "</style>\n",
       "<table border=\"1\" class=\"dataframe\">\n",
       "  <thead>\n",
       "    <tr style=\"text-align: right;\">\n",
       "      <th></th>\n",
       "      <th>riesgo</th>\n",
       "      <th>retorno</th>\n",
       "      <th>phi</th>\n",
       "    </tr>\n",
       "  </thead>\n",
       "  <tbody>\n",
       "    <tr>\n",
       "      <th>95</th>\n",
       "      <td>4.733256e-10</td>\n",
       "      <td>0.000013</td>\n",
       "      <td>5623.413252</td>\n",
       "    </tr>\n",
       "    <tr>\n",
       "      <th>96</th>\n",
       "      <td>3.759759e-10</td>\n",
       "      <td>0.000012</td>\n",
       "      <td>6309.573445</td>\n",
       "    </tr>\n",
       "    <tr>\n",
       "      <th>97</th>\n",
       "      <td>2.986482e-10</td>\n",
       "      <td>0.000012</td>\n",
       "      <td>7079.457844</td>\n",
       "    </tr>\n",
       "    <tr>\n",
       "      <th>98</th>\n",
       "      <td>2.372247e-10</td>\n",
       "      <td>0.000012</td>\n",
       "      <td>7943.282347</td>\n",
       "    </tr>\n",
       "    <tr>\n",
       "      <th>99</th>\n",
       "      <td>1.884343e-10</td>\n",
       "      <td>0.000012</td>\n",
       "      <td>8912.509381</td>\n",
       "    </tr>\n",
       "  </tbody>\n",
       "</table>\n",
       "</div>"
      ],
      "text/plain": [
       "          riesgo   retorno          phi\n",
       "95  4.733256e-10  0.000013  5623.413252\n",
       "96  3.759759e-10  0.000012  6309.573445\n",
       "97  2.986482e-10  0.000012  7079.457844\n",
       "98  2.372247e-10  0.000012  7943.282347\n",
       "99  1.884343e-10  0.000012  8912.509381"
      ]
     },
     "execution_count": 49,
     "metadata": {},
     "output_type": "execute_result"
    }
   ],
   "source": [
    "rest_libre_riesgo.tail()"
   ]
  },
  {
   "cell_type": "code",
   "execution_count": 50,
   "metadata": {
    "colab": {
     "base_uri": "https://localhost:8080/",
     "height": 477
    },
    "id": "C1NyLkmNPJnR",
    "outputId": "1d851ef4-0235-486b-88fa-8ae0b6cbaf6b"
   },
   "outputs": [
    {
     "data": {
      "text/plain": [
       "Text(0, 0.5, 'Retorno %')"
      ]
     },
     "execution_count": 50,
     "metadata": {},
     "output_type": "execute_result"
    },
    {
     "data": {
      "image/png": "[encoded data removed]",
      "text/plain": [
       "<Figure size 720x504 with 1 Axes>"
      ]
     },
     "metadata": {
      "needs_background": "light"
     },
     "output_type": "display_data"
    }
   ],
   "source": [
    "ax = rest_libre_riesgo.plot.line(x=\"riesgo\", y=\"retorno\", title = \"Frontera Óptima Restricción Activo Libre Riesgo\", legend=False, figsize=(10,7))\n",
    "ax.set_xlabel(\"Riesgo %\")\n",
    "ax.set_ylabel(\"Retorno %\")"
   ]
  },
  {
   "cell_type": "code",
   "execution_count": 51,
   "metadata": {
    "colab": {
     "base_uri": "https://localhost:8080/"
    },
    "id": "oJwMPi0_PJnS",
    "outputId": "228026cb-13d8-4d2b-af94-3806f9241b2f"
   },
   "outputs": [
    {
     "data": {
      "text/plain": [
       "array([[ 15.046],\n",
       "       [-31.018],\n",
       "       [ 19.287],\n",
       "       [ 85.991],\n",
       "       [-88.307]])"
      ]
     },
     "execution_count": 51,
     "metadata": {},
     "output_type": "execute_result"
    }
   ],
   "source": [
    "np.round(pesos_riesgo[0].reshape(5,1), decimals = 3)"
   ]
  },
  {
   "cell_type": "code",
   "execution_count": 52,
   "metadata": {
    "colab": {
     "base_uri": "https://localhost:8080/"
    },
    "id": "lCIL5AxfPJnS",
    "outputId": "5b4371db-853e-4908-ff19-8d1fa4dae85d"
   },
   "outputs": [
    {
     "data": {
      "text/plain": [
       "riesgo     1.496787\n",
       "retorno    0.149689\n",
       "phi        0.100000\n",
       "Name: 0, dtype: float64"
      ]
     },
     "execution_count": 52,
     "metadata": {},
     "output_type": "execute_result"
    }
   ],
   "source": [
    "rest_libre_riesgo.iloc[0]"
   ]
  },
  {
   "cell_type": "code",
   "execution_count": 53,
   "metadata": {
    "colab": {
     "base_uri": "https://localhost:8080/"
    },
    "id": "VwLl8jf2PJnT",
    "outputId": "ea9bd9f4-c245-4144-e0cc-275e7d04f501"
   },
   "outputs": [
    {
     "data": {
      "text/plain": [
       "0.1496886879100926"
      ]
     },
     "execution_count": 53,
     "metadata": {},
     "output_type": "execute_result"
    }
   ],
   "source": [
    "np.append(pbar, r) @ np.array(pesos_riesgo[0]) "
   ]
  },
  {
   "cell_type": "code",
   "execution_count": 54,
   "metadata": {
    "colab": {
     "base_uri": "https://localhost:8080/"
    },
    "id": "ZxaKjPOaM7Vr",
    "outputId": "10831747-2a16-4ad7-bf04-350fbb9085ce"
   },
   "outputs": [
    {
     "data": {
      "text/plain": [
       "array([[ 0.   ],\n",
       "       [-0.   ],\n",
       "       [ 0.   ],\n",
       "       [ 0.001],\n",
       "       [ 0.999]])"
      ]
     },
     "execution_count": 54,
     "metadata": {},
     "output_type": "execute_result"
    }
   ],
   "source": [
    "np.round(pesos_riesgo[-1].reshape(5,1), decimals = 3)"
   ]
  },
  {
   "cell_type": "code",
   "execution_count": 55,
   "metadata": {
    "colab": {
     "base_uri": "https://localhost:8080/"
    },
    "id": "iJZDt2fiPJnT",
    "outputId": "da5b6128-141b-445c-c705-f8444084cf70"
   },
   "outputs": [
    {
     "data": {
      "text/plain": [
       "riesgo     1.884343e-10\n",
       "retorno    1.167942e-05\n",
       "phi        8.912509e+03\n",
       "Name: 99, dtype: float64"
      ]
     },
     "execution_count": 55,
     "metadata": {},
     "output_type": "execute_result"
    }
   ],
   "source": [
    "rest_libre_riesgo.iloc[-1]"
   ]
  },
  {
   "cell_type": "code",
   "execution_count": 56,
   "metadata": {
    "colab": {
     "base_uri": "https://localhost:8080/"
    },
    "id": "ZDD-vRnXPJnU",
    "outputId": "09ba7d50-9d47-48fd-9084-bf98c16a918f"
   },
   "outputs": [
    {
     "data": {
      "text/plain": [
       "array([ 0., -0.,  0.,  0.,  1.])"
      ]
     },
     "execution_count": 56,
     "metadata": {},
     "output_type": "execute_result"
    }
   ],
   "source": [
    "np.round(pesos_riesgo[-1], decimals = 2)"
   ]
  },
  {
   "cell_type": "code",
   "execution_count": 57,
   "metadata": {
    "colab": {
     "base_uri": "https://localhost:8080/"
    },
    "id": "oI5zw91gPJnU",
    "outputId": "47e753d1-6da8-4547-afda-95134748735e"
   },
   "outputs": [
    {
     "data": {
      "text/plain": [
       "1.1679422500508281e-05"
      ]
     },
     "execution_count": 57,
     "metadata": {},
     "output_type": "execute_result"
    }
   ],
   "source": [
    "np.append(pbar, r) @ np.array(pesos_riesgo[-1]) "
   ]
  },
  {
   "cell_type": "markdown",
   "metadata": {
    "id": "1npP1bOUS-pK"
   },
   "source": [
    "# Restricción de Intervalos de alocación"
   ]
  },
  {
   "cell_type": "markdown",
   "metadata": {},
   "source": [
    "Esta restricción consiste en definir un intervalo para el peso de un determinado activo, por ejemplo si queremos restringir que el capital asignado a BTC no sea menor del 20% del capital pero tampoco mayor al 50%, entonces tenemos que:\n",
    "\n",
    "$$0.2 \\leq x_1 \\leq 0.5$$\n",
    "\n",
    "Esta es una restricción **lineal** y es posible introducirla diréctamente en la matriz de restricciones al formular el problema de programación cuadrática"
   ]
  },
  {
   "cell_type": "code",
   "execution_count": 67,
   "metadata": {
    "id": "RQu7LByeTSqT"
   },
   "outputs": [],
   "source": [
    "#Creación de la matriz con intervalos\n",
    "# .2 <=x1 <=.5\n",
    "#  .1 <=     x4 <=.3\n",
    "# notar que implicitamente se está poniendo la restricción de no venta en corto para \n",
    "# x1 y x4, y que explícitamente se pone esta restricción para x_2 y x_3\n",
    "G = matrix(\n",
    "    [[ 1.0, -1.0, 0.0\t,0.0,0.0,0.0],\n",
    "     [0,      0     , -1.0\t,0,0,0],\n",
    "    [ 0\t, 0, 0\t,-1.0,0,0],\n",
    "    [0\t, 0\t,0\t,0,1.0,-1.0]])\n",
    "\n",
    "h = matrix([.5,\n",
    "            -.2,\n",
    "            0,\n",
    "            0,\n",
    "            .3,\n",
    "            -.1])"
   ]
  },
  {
   "cell_type": "code",
   "execution_count": 69,
   "metadata": {
    "id": "DugzCo7gS7T7"
   },
   "outputs": [],
   "source": [
    "# Problem data.\n",
    "n = len(g)\n",
    "\n",
    "\n",
    "# Definición de número de valores de phi que se van a calcular.\n",
    "N = 100\n",
    "phis = [ 10**(5.0*t/N-1.0) for t in range(N) ]\n",
    "\n",
    "portfolios = [ qp(phi*E_matriz, -g_matriz, G=G, h=h)['x'] for phi in phis ]\n",
    "\n",
    "returns = [ dot(g_matriz,x) for x in portfolios ]\n",
    "risks = [ sqrt(dot(x, E_matriz*x)) for x in portfolios ]\n"
   ]
  },
  {
   "cell_type": "code",
   "execution_count": 70,
   "metadata": {
    "id": "ANxzKqD5S7T8"
   },
   "outputs": [],
   "source": [
    "risks_df = np.array(risks)\n",
    "returns_df = np.array(returns)\n",
    "rest_intervalo= pd.DataFrame(data = {\"riesgo\":risks_df,\"retorno\": returns_df, \"phi\": phis})"
   ]
  },
  {
   "cell_type": "code",
   "execution_count": 71,
   "metadata": {
    "colab": {
     "base_uri": "https://localhost:8080/",
     "height": 206
    },
    "id": "v1FPObpAS7T9",
    "outputId": "8beab358-926d-454d-ff97-ab341a6ed1c2"
   },
   "outputs": [
    {
     "data": {
      "text/html": [
       "<div>\n",
       "<style scoped>\n",
       "    .dataframe tbody tr th:only-of-type {\n",
       "        vertical-align: middle;\n",
       "    }\n",
       "\n",
       "    .dataframe tbody tr th {\n",
       "        vertical-align: top;\n",
       "    }\n",
       "\n",
       "    .dataframe thead th {\n",
       "        text-align: right;\n",
       "    }\n",
       "</style>\n",
       "<table border=\"1\" class=\"dataframe\">\n",
       "  <thead>\n",
       "    <tr style=\"text-align: right;\">\n",
       "      <th></th>\n",
       "      <th>riesgo</th>\n",
       "      <th>retorno</th>\n",
       "      <th>phi</th>\n",
       "    </tr>\n",
       "  </thead>\n",
       "  <tbody>\n",
       "    <tr>\n",
       "      <th>0</th>\n",
       "      <td>0.246512</td>\n",
       "      <td>0.007659</td>\n",
       "      <td>0.100000</td>\n",
       "    </tr>\n",
       "    <tr>\n",
       "      <th>1</th>\n",
       "      <td>0.220008</td>\n",
       "      <td>0.007005</td>\n",
       "      <td>0.112202</td>\n",
       "    </tr>\n",
       "    <tr>\n",
       "      <th>2</th>\n",
       "      <td>0.196423</td>\n",
       "      <td>0.006422</td>\n",
       "      <td>0.125893</td>\n",
       "    </tr>\n",
       "    <tr>\n",
       "      <th>3</th>\n",
       "      <td>0.175443</td>\n",
       "      <td>0.005903</td>\n",
       "      <td>0.141254</td>\n",
       "    </tr>\n",
       "    <tr>\n",
       "      <th>4</th>\n",
       "      <td>0.156791</td>\n",
       "      <td>0.005440</td>\n",
       "      <td>0.158489</td>\n",
       "    </tr>\n",
       "  </tbody>\n",
       "</table>\n",
       "</div>"
      ],
      "text/plain": [
       "     riesgo   retorno       phi\n",
       "0  0.246512  0.007659  0.100000\n",
       "1  0.220008  0.007005  0.112202\n",
       "2  0.196423  0.006422  0.125893\n",
       "3  0.175443  0.005903  0.141254\n",
       "4  0.156791  0.005440  0.158489"
      ]
     },
     "execution_count": 71,
     "metadata": {},
     "output_type": "execute_result"
    }
   ],
   "source": [
    "rest_intervalo.head()"
   ]
  },
  {
   "cell_type": "code",
   "execution_count": 72,
   "metadata": {
    "colab": {
     "base_uri": "https://localhost:8080/",
     "height": 206
    },
    "id": "A1ZkliLpS7T9",
    "outputId": "c8870377-e15c-4763-cfea-ddcf188792ea"
   },
   "outputs": [
    {
     "data": {
      "text/html": [
       "<div>\n",
       "<style scoped>\n",
       "    .dataframe tbody tr th:only-of-type {\n",
       "        vertical-align: middle;\n",
       "    }\n",
       "\n",
       "    .dataframe tbody tr th {\n",
       "        vertical-align: top;\n",
       "    }\n",
       "\n",
       "    .dataframe thead th {\n",
       "        text-align: right;\n",
       "    }\n",
       "</style>\n",
       "<table border=\"1\" class=\"dataframe\">\n",
       "  <thead>\n",
       "    <tr style=\"text-align: right;\">\n",
       "      <th></th>\n",
       "      <th>riesgo</th>\n",
       "      <th>retorno</th>\n",
       "      <th>phi</th>\n",
       "    </tr>\n",
       "  </thead>\n",
       "  <tbody>\n",
       "    <tr>\n",
       "      <th>95</th>\n",
       "      <td>0.010125</td>\n",
       "      <td>0.000629</td>\n",
       "      <td>5623.413252</td>\n",
       "    </tr>\n",
       "    <tr>\n",
       "      <th>96</th>\n",
       "      <td>0.010125</td>\n",
       "      <td>0.000629</td>\n",
       "      <td>6309.573445</td>\n",
       "    </tr>\n",
       "    <tr>\n",
       "      <th>97</th>\n",
       "      <td>0.010125</td>\n",
       "      <td>0.000629</td>\n",
       "      <td>7079.457844</td>\n",
       "    </tr>\n",
       "    <tr>\n",
       "      <th>98</th>\n",
       "      <td>0.010125</td>\n",
       "      <td>0.000629</td>\n",
       "      <td>7943.282347</td>\n",
       "    </tr>\n",
       "    <tr>\n",
       "      <th>99</th>\n",
       "      <td>0.010125</td>\n",
       "      <td>0.000629</td>\n",
       "      <td>8912.509381</td>\n",
       "    </tr>\n",
       "  </tbody>\n",
       "</table>\n",
       "</div>"
      ],
      "text/plain": [
       "      riesgo   retorno          phi\n",
       "95  0.010125  0.000629  5623.413252\n",
       "96  0.010125  0.000629  6309.573445\n",
       "97  0.010125  0.000629  7079.457844\n",
       "98  0.010125  0.000629  7943.282347\n",
       "99  0.010125  0.000629  8912.509381"
      ]
     },
     "execution_count": 72,
     "metadata": {},
     "output_type": "execute_result"
    }
   ],
   "source": [
    "rest_intervalo.tail()"
   ]
  },
  {
   "cell_type": "code",
   "execution_count": 73,
   "metadata": {
    "colab": {
     "base_uri": "https://localhost:8080/",
     "height": 477
    },
    "id": "Y_m91KYJS7T-",
    "outputId": "290f9258-c1cb-43df-cb55-9859557dbbdc"
   },
   "outputs": [
    {
     "data": {
      "text/plain": [
       "Text(0, 0.5, 'Retorno %')"
      ]
     },
     "execution_count": 73,
     "metadata": {},
     "output_type": "execute_result"
    },
    {
     "data": {
      "image/png": "[encoded data removed]",
      "text/plain": [
       "<Figure size 720x504 with 1 Axes>"
      ]
     },
     "metadata": {
      "needs_background": "light"
     },
     "output_type": "display_data"
    }
   ],
   "source": [
    "ax = rest_intervalo.plot.line(x=\"riesgo\", y=\"retorno\", title = \"Frontera Óptima Restricción por Intervalos\", legend=False, figsize=(10,7))\n",
    "ax.set_xlabel(\"Riesgo %\")\n",
    "ax.set_ylabel(\"Retorno %\")"
   ]
  },
  {
   "cell_type": "code",
   "execution_count": 64,
   "metadata": {
    "colab": {
     "base_uri": "https://localhost:8080/"
    },
    "id": "ed_vVnyuS7T-",
    "outputId": "a9f247e8-bcfa-4319-fbd5-7c1778983e7c"
   },
   "outputs": [
    {
     "data": {
      "text/plain": [
       "array([[ 0.5  ],\n",
       "       [ 0.   ],\n",
       "       [23.412],\n",
       "       [ 0.3  ]])"
      ]
     },
     "execution_count": 64,
     "metadata": {},
     "output_type": "execute_result"
    }
   ],
   "source": [
    "np.round(portfolios[0], decimals = 3)"
   ]
  },
  {
   "cell_type": "code",
   "execution_count": 65,
   "metadata": {
    "colab": {
     "base_uri": "https://localhost:8080/"
    },
    "id": "Z1OMD7LQS7T-",
    "outputId": "0381a1c1-148f-445e-dc65-0c9c09bbd8ac"
   },
   "outputs": [
    {
     "data": {
      "text/plain": [
       "riesgo     0.160534\n",
       "retorno    0.005137\n",
       "phi        0.100000\n",
       "Name: 0, dtype: float64"
      ]
     },
     "execution_count": 65,
     "metadata": {},
     "output_type": "execute_result"
    }
   ],
   "source": [
    "rest_intervalo.iloc[0]"
   ]
  },
  {
   "cell_type": "code",
   "execution_count": 66,
   "metadata": {
    "colab": {
     "base_uri": "https://localhost:8080/"
    },
    "id": "JHMsTIgTS7T_",
    "outputId": "69743555-efc8-4938-fe04-1a65b31df429"
   },
   "outputs": [
    {
     "data": {
      "text/plain": [
       "array([0.00514598])"
      ]
     },
     "execution_count": 66,
     "metadata": {},
     "output_type": "execute_result"
    }
   ],
   "source": [
    "g@ np.array(portfolios[0]) "
   ]
  },
  {
   "cell_type": "code",
   "execution_count": 67,
   "metadata": {
    "colab": {
     "base_uri": "https://localhost:8080/"
    },
    "id": "3zD8EbzLS7T_",
    "outputId": "ba1e4aa7-efe5-4c6f-f941-48c7fb78746c"
   },
   "outputs": [
    {
     "data": {
      "text/plain": [
       "riesgo        0.010532\n",
       "retorno       0.001012\n",
       "phi        8912.509381\n",
       "Name: 99, dtype: float64"
      ]
     },
     "execution_count": 67,
     "metadata": {},
     "output_type": "execute_result"
    }
   ],
   "source": [
    "rest_intervalo.iloc[-1]"
   ]
  },
  {
   "cell_type": "code",
   "execution_count": 68,
   "metadata": {
    "colab": {
     "base_uri": "https://localhost:8080/"
    },
    "id": "BsmiJqzrS7UA",
    "outputId": "364a200d-7976-4932-d990-a74cc0acbf01"
   },
   "outputs": [
    {
     "data": {
      "text/plain": [
       "array([[0.2  ],\n",
       "       [0.081],\n",
       "       [0.099],\n",
       "       [0.1  ]])"
      ]
     },
     "execution_count": 68,
     "metadata": {},
     "output_type": "execute_result"
    }
   ],
   "source": [
    "np.round(portfolios[-1], decimals = 3)"
   ]
  },
  {
   "cell_type": "code",
   "execution_count": 69,
   "metadata": {
    "colab": {
     "base_uri": "https://localhost:8080/"
    },
    "id": "NxC9xvDjS7UA",
    "outputId": "faf89a2e-1c80-46ef-f111-c4ab0ee8727c"
   },
   "outputs": [
    {
     "data": {
      "text/plain": [
       "array([0.00101232])"
      ]
     },
     "execution_count": 69,
     "metadata": {},
     "output_type": "execute_result"
    }
   ],
   "source": [
    "g@ np.array(portfolios[-1]) "
   ]
  },
  {
   "cell_type": "markdown",
   "metadata": {
    "id": "fb8lUM8YXINn"
   },
   "source": [
    "## Añadiendo restriccion de alocación de todos los activos"
   ]
  },
  {
   "cell_type": "code",
   "execution_count": 70,
   "metadata": {
    "id": "bwMCMPkxXdvE"
   },
   "outputs": [],
   "source": [
    "# Problem data.\n",
    "n = len(g)\n",
    "\n",
    "## Restriccioń de alocacioń de todo el capital\n",
    "# Esta matriz tiene que ver con la rstricción 1T x = 1 y es una matriz (o mas bien vector) de 1 (parte izq)\n",
    "A = matrix(1.0, (1,n))\n",
    "# es escalar 1 que es la parte derecha de 1T x = 1\n",
    "b = matrix(1.0)\n",
    "\n",
    "# Definición de número de valores de phi que se van a calcular.\n",
    "N = 100\n",
    "phis = [ 10**(5.0*t/N-1.0) for t in range(N) ]\n",
    "portfolios = [ qp(phi*S, -pbar, G, h, A, b)['x'] for phi in phis ]\n",
    "\n",
    "\n",
    "returns = [ dot(pbar,x) for x in portfolios ]\n",
    "risks = [ sqrt(dot(x, S*x)) for x in portfolios ]\n"
   ]
  },
  {
   "cell_type": "code",
   "execution_count": 71,
   "metadata": {
    "id": "ZbBlrnGbXG7l"
   },
   "outputs": [],
   "source": [
    "risks_df = np.array(risks)\n",
    "returns_df = np.array(returns)\n",
    "rest_intervalo= pd.DataFrame(data = {\"riesgo\":risks_df,\"retorno\": returns_df, \"phi\": phis})"
   ]
  },
  {
   "cell_type": "code",
   "execution_count": 72,
   "metadata": {
    "colab": {
     "base_uri": "https://localhost:8080/",
     "height": 206
    },
    "id": "_1IcP6q8XG7m",
    "outputId": "845630e7-9017-4085-e4e7-64775429b74a"
   },
   "outputs": [
    {
     "data": {
      "text/html": [
       "<div>\n",
       "<style scoped>\n",
       "    .dataframe tbody tr th:only-of-type {\n",
       "        vertical-align: middle;\n",
       "    }\n",
       "\n",
       "    .dataframe tbody tr th {\n",
       "        vertical-align: top;\n",
       "    }\n",
       "\n",
       "    .dataframe thead th {\n",
       "        text-align: right;\n",
       "    }\n",
       "</style>\n",
       "<table border=\"1\" class=\"dataframe\">\n",
       "  <thead>\n",
       "    <tr style=\"text-align: right;\">\n",
       "      <th></th>\n",
       "      <th>riesgo</th>\n",
       "      <th>retorno</th>\n",
       "      <th>phi</th>\n",
       "    </tr>\n",
       "  </thead>\n",
       "  <tbody>\n",
       "    <tr>\n",
       "      <th>0</th>\n",
       "      <td>0.026507</td>\n",
       "      <td>0.00263</td>\n",
       "      <td>0.100000</td>\n",
       "    </tr>\n",
       "    <tr>\n",
       "      <th>1</th>\n",
       "      <td>0.026507</td>\n",
       "      <td>0.00263</td>\n",
       "      <td>0.112202</td>\n",
       "    </tr>\n",
       "    <tr>\n",
       "      <th>2</th>\n",
       "      <td>0.026507</td>\n",
       "      <td>0.00263</td>\n",
       "      <td>0.125893</td>\n",
       "    </tr>\n",
       "    <tr>\n",
       "      <th>3</th>\n",
       "      <td>0.026507</td>\n",
       "      <td>0.00263</td>\n",
       "      <td>0.141254</td>\n",
       "    </tr>\n",
       "    <tr>\n",
       "      <th>4</th>\n",
       "      <td>0.026507</td>\n",
       "      <td>0.00263</td>\n",
       "      <td>0.158489</td>\n",
       "    </tr>\n",
       "  </tbody>\n",
       "</table>\n",
       "</div>"
      ],
      "text/plain": [
       "     riesgo  retorno       phi\n",
       "0  0.026507  0.00263  0.100000\n",
       "1  0.026507  0.00263  0.112202\n",
       "2  0.026507  0.00263  0.125893\n",
       "3  0.026507  0.00263  0.141254\n",
       "4  0.026507  0.00263  0.158489"
      ]
     },
     "execution_count": 72,
     "metadata": {},
     "output_type": "execute_result"
    }
   ],
   "source": [
    "rest_intervalo.head()"
   ]
  },
  {
   "cell_type": "code",
   "execution_count": 73,
   "metadata": {
    "colab": {
     "base_uri": "https://localhost:8080/",
     "height": 206
    },
    "id": "89Q6veLDXG7n",
    "outputId": "49ae2b63-b356-4b32-ef17-975e0164bf58"
   },
   "outputs": [
    {
     "data": {
      "text/html": [
       "<div>\n",
       "<style scoped>\n",
       "    .dataframe tbody tr th:only-of-type {\n",
       "        vertical-align: middle;\n",
       "    }\n",
       "\n",
       "    .dataframe tbody tr th {\n",
       "        vertical-align: top;\n",
       "    }\n",
       "\n",
       "    .dataframe thead th {\n",
       "        text-align: right;\n",
       "    }\n",
       "</style>\n",
       "<table border=\"1\" class=\"dataframe\">\n",
       "  <thead>\n",
       "    <tr style=\"text-align: right;\">\n",
       "      <th></th>\n",
       "      <th>riesgo</th>\n",
       "      <th>retorno</th>\n",
       "      <th>phi</th>\n",
       "    </tr>\n",
       "  </thead>\n",
       "  <tbody>\n",
       "    <tr>\n",
       "      <th>95</th>\n",
       "      <td>0.010863</td>\n",
       "      <td>0.000988</td>\n",
       "      <td>5623.413252</td>\n",
       "    </tr>\n",
       "    <tr>\n",
       "      <th>96</th>\n",
       "      <td>0.010863</td>\n",
       "      <td>0.000988</td>\n",
       "      <td>6309.573445</td>\n",
       "    </tr>\n",
       "    <tr>\n",
       "      <th>97</th>\n",
       "      <td>0.010863</td>\n",
       "      <td>0.000988</td>\n",
       "      <td>7079.457844</td>\n",
       "    </tr>\n",
       "    <tr>\n",
       "      <th>98</th>\n",
       "      <td>0.010863</td>\n",
       "      <td>0.000988</td>\n",
       "      <td>7943.282347</td>\n",
       "    </tr>\n",
       "    <tr>\n",
       "      <th>99</th>\n",
       "      <td>0.010863</td>\n",
       "      <td>0.000988</td>\n",
       "      <td>8912.509381</td>\n",
       "    </tr>\n",
       "  </tbody>\n",
       "</table>\n",
       "</div>"
      ],
      "text/plain": [
       "      riesgo   retorno          phi\n",
       "95  0.010863  0.000988  5623.413252\n",
       "96  0.010863  0.000988  6309.573445\n",
       "97  0.010863  0.000988  7079.457844\n",
       "98  0.010863  0.000988  7943.282347\n",
       "99  0.010863  0.000988  8912.509381"
      ]
     },
     "execution_count": 73,
     "metadata": {},
     "output_type": "execute_result"
    }
   ],
   "source": [
    "rest_intervalo.tail()"
   ]
  },
  {
   "cell_type": "code",
   "execution_count": 74,
   "metadata": {
    "colab": {
     "base_uri": "https://localhost:8080/",
     "height": 477
    },
    "id": "fV7J94xgXG7n",
    "outputId": "1d77a0eb-cfaa-487b-f594-d7d5680adf26"
   },
   "outputs": [
    {
     "data": {
      "text/plain": [
       "Text(0, 0.5, 'Retorno %')"
      ]
     },
     "execution_count": 74,
     "metadata": {},
     "output_type": "execute_result"
    },
    {
     "data": {
      "image/png": "[encoded data removed]",
      "text/plain": [
       "<Figure size 720x504 with 1 Axes>"
      ]
     },
     "metadata": {
      "needs_background": "light"
     },
     "output_type": "display_data"
    }
   ],
   "source": [
    "ax = rest_intervalo.plot.line(x=\"riesgo\", y=\"retorno\", title = \"Frontera Óptima Restricción por Intervalos y Alocación Completa\", legend=False, figsize=(10,7))\n",
    "ax.set_xlabel(\"Riesgo %\")\n",
    "ax.set_ylabel(\"Retorno %\")"
   ]
  },
  {
   "cell_type": "code",
   "execution_count": 75,
   "metadata": {
    "colab": {
     "base_uri": "https://localhost:8080/"
    },
    "id": "_eWHq1GQXG7o",
    "outputId": "0d1d5e96-0d02-4402-b7ff-2c2a0a27ff22"
   },
   "outputs": [
    {
     "data": {
      "text/plain": [
       "array([[0.5],\n",
       "       [0. ],\n",
       "       [0.2],\n",
       "       [0.3]])"
      ]
     },
     "execution_count": 75,
     "metadata": {},
     "output_type": "execute_result"
    }
   ],
   "source": [
    "np.round(portfolios[0], decimals = 3)"
   ]
  },
  {
   "cell_type": "code",
   "execution_count": 76,
   "metadata": {
    "colab": {
     "base_uri": "https://localhost:8080/"
    },
    "id": "FgUMoHzsXG7o",
    "outputId": "2173d56f-83fe-477e-a782-bae759ab90ca"
   },
   "outputs": [
    {
     "data": {
      "text/plain": [
       "riesgo     0.026507\n",
       "retorno    0.002630\n",
       "phi        0.100000\n",
       "Name: 0, dtype: float64"
      ]
     },
     "execution_count": 76,
     "metadata": {},
     "output_type": "execute_result"
    }
   ],
   "source": [
    "rest_intervalo.iloc[0]"
   ]
  },
  {
   "cell_type": "code",
   "execution_count": 77,
   "metadata": {
    "colab": {
     "base_uri": "https://localhost:8080/"
    },
    "id": "p7kGthzMXG7p",
    "outputId": "7f62f6ac-25b8-4a60-accf-5c251cb50211"
   },
   "outputs": [
    {
     "data": {
      "text/plain": [
       "array([0.00263006])"
      ]
     },
     "execution_count": 77,
     "metadata": {},
     "output_type": "execute_result"
    }
   ],
   "source": [
    "g@ np.array(portfolios[0]) "
   ]
  },
  {
   "cell_type": "markdown",
   "metadata": {
    "id": "_fCtCySbtiNw"
   },
   "source": [
    "Notar que al forzar que se invierta todo el capital, se obtiene un portafolio con un riesgo más alto y un retorno más bajo en comparación cuando se usa también la restricción de intervalos pero sin la restricción de alocaccioń de todo el capital (ejemplo pasado)."
   ]
  },
  {
   "cell_type": "code",
   "execution_count": 78,
   "metadata": {
    "colab": {
     "base_uri": "https://localhost:8080/"
    },
    "id": "x7yPkjcJXG7p",
    "outputId": "4a37bf4c-5ab2-4af3-b3c1-5f4eab544764"
   },
   "outputs": [
    {
     "data": {
      "text/plain": [
       "riesgo        0.010863\n",
       "retorno       0.000988\n",
       "phi        8912.509381\n",
       "Name: 99, dtype: float64"
      ]
     },
     "execution_count": 78,
     "metadata": {},
     "output_type": "execute_result"
    }
   ],
   "source": [
    "rest_intervalo.iloc[-1]"
   ]
  },
  {
   "cell_type": "markdown",
   "metadata": {
    "id": "5_iiQXhyY8qv"
   },
   "source": [
    "Notar que aún cuando se esperaría que la solución fuera asignar todo el capital al activo con menos riesgo, hay que notar que en la matriz de var-cov, las estructuras de correlación influyen y logran obtener un portafolio con menos riesgo ( 0.0045) considerando que el activo menos riesgoso tiene un riesgo de (0.0088)"
   ]
  },
  {
   "cell_type": "code",
   "execution_count": 79,
   "metadata": {
    "colab": {
     "base_uri": "https://localhost:8080/"
    },
    "id": "D_urKBbLXG7q",
    "outputId": "e93cd949-aec1-49bf-d7f4-046b169426c0"
   },
   "outputs": [
    {
     "data": {
      "text/plain": [
       "array([[0.2  ],\n",
       "       [0.268],\n",
       "       [0.432],\n",
       "       [0.1  ]])"
      ]
     },
     "execution_count": 79,
     "metadata": {},
     "output_type": "execute_result"
    }
   ],
   "source": [
    "np.round(portfolios[-1], decimals = 3)"
   ]
  },
  {
   "cell_type": "code",
   "execution_count": 80,
   "metadata": {
    "colab": {
     "base_uri": "https://localhost:8080/"
    },
    "id": "Y-L0Nfa7ZVDV",
    "outputId": "342fc103-dbfe-4f0d-dfca-302e93998674"
   },
   "outputs": [
    {
     "data": {
      "text/plain": [
       "BTC-USD    0.052017\n",
       "GC=F       0.009555\n",
       "MXN=X      0.006821\n",
       "^MXX       0.008825\n",
       "dtype: float64"
      ]
     },
     "execution_count": 80,
     "metadata": {},
     "output_type": "execute_result"
    }
   ],
   "source": [
    "retpor.std()"
   ]
  },
  {
   "cell_type": "code",
   "execution_count": 81,
   "metadata": {
    "colab": {
     "base_uri": "https://localhost:8080/"
    },
    "id": "r-pEpn2YXG7q",
    "outputId": "1283e192-80b2-4cf0-ba2c-9736a7c5d7a4"
   },
   "outputs": [
    {
     "data": {
      "text/plain": [
       "array([0.00098784])"
      ]
     },
     "execution_count": 81,
     "metadata": {},
     "output_type": "execute_result"
    }
   ],
   "source": [
    "g@ np.array(portfolios[-1]) "
   ]
  },
  {
   "cell_type": "markdown",
   "metadata": {
    "id": "alUVw8f0Zu3H"
   },
   "source": [
    "# Restricción de Intervalos de alocación por grupos"
   ]
  },
  {
   "cell_type": "code",
   "execution_count": 82,
   "metadata": {
    "id": "qjDZwv-GZu3H"
   },
   "outputs": [],
   "source": [
    "#Creación de la matriz con intervalos\n",
    "# .2 <=x1+x3 <=.5\n",
    "#  .1 <=   x2+ x4 <=.3\n",
    "# notar que implicitamente se está poniendo la restricción de no venta en corto para \n",
    "# x1 y x4, y que explícitamente se pone esta restricción para x_2 y x_3\n",
    "G = matrix(\n",
    "    [[ 1.0,  -1.0,  0\t,  0, -1.0,0, 0,0],\n",
    "       [0,    0    , 1.0,  -1.0,  0,-1.0, 0 ,0],\n",
    "       [ 1.0, -1.0,  0\t, 0, 0,0, -1.0, 0],\n",
    "       [0,    0\t    ,1.0,   -1.0, 0,0, 0 , -1.0]])\n",
    "\n",
    "h = matrix([.5,\n",
    "            -.2,\n",
    "            .3,\n",
    "            -.1,\n",
    "            0,\n",
    "            0,\n",
    "            0,\n",
    "            0])"
   ]
  },
  {
   "cell_type": "code",
   "execution_count": 83,
   "metadata": {
    "id": "JK7SLIzjZu3I"
   },
   "outputs": [],
   "source": [
    "# Problem data.\n",
    "n = len(g)\n",
    "\n",
    "## Restriccioń de alocacioń de todo el capital\n",
    "# Esta matriz tiene que ver con la rstricción 1T x = 1 y es una matriz (o mas bien vector) de 1 (parte izq)\n",
    "\n",
    "\n",
    "# Definición de número de valores de phi que se van a calcular.\n",
    "N = 100\n",
    "phis = [ 10**(5.0*t/N-1.0) for t in range(N) ]\n",
    "\n",
    "portfolios = [ qp(phi*S, -pbar, G=G, h=h)['x'] for phi in phis ]\n",
    "\n",
    "returns = [ dot(pbar,x) for x in portfolios ]\n",
    "risks = [ sqrt(dot(x, S*x)) for x in portfolios ]"
   ]
  },
  {
   "cell_type": "code",
   "execution_count": 84,
   "metadata": {
    "id": "CFwAnB7jZu3J"
   },
   "outputs": [],
   "source": [
    "risks_df = np.array(risks)\n",
    "returns_df = np.array(returns)\n",
    "rest_intervalo_grupos= pd.DataFrame(data = {\"riesgo\":risks_df,\"retorno\": returns_df, \"phi\": phis})"
   ]
  },
  {
   "cell_type": "code",
   "execution_count": 85,
   "metadata": {
    "colab": {
     "base_uri": "https://localhost:8080/",
     "height": 206
    },
    "id": "H4yMn55ZZu3J",
    "outputId": "7868a2f0-bce1-4006-efdd-2c921fd0b93a"
   },
   "outputs": [
    {
     "data": {
      "text/html": [
       "<div>\n",
       "<style scoped>\n",
       "    .dataframe tbody tr th:only-of-type {\n",
       "        vertical-align: middle;\n",
       "    }\n",
       "\n",
       "    .dataframe tbody tr th {\n",
       "        vertical-align: top;\n",
       "    }\n",
       "\n",
       "    .dataframe thead th {\n",
       "        text-align: right;\n",
       "    }\n",
       "</style>\n",
       "<table border=\"1\" class=\"dataframe\">\n",
       "  <thead>\n",
       "    <tr style=\"text-align: right;\">\n",
       "      <th></th>\n",
       "      <th>riesgo</th>\n",
       "      <th>retorno</th>\n",
       "      <th>phi</th>\n",
       "    </tr>\n",
       "  </thead>\n",
       "  <tbody>\n",
       "    <tr>\n",
       "      <th>0</th>\n",
       "      <td>0.026543</td>\n",
       "      <td>0.002608</td>\n",
       "      <td>0.100000</td>\n",
       "    </tr>\n",
       "    <tr>\n",
       "      <th>1</th>\n",
       "      <td>0.026543</td>\n",
       "      <td>0.002608</td>\n",
       "      <td>0.112202</td>\n",
       "    </tr>\n",
       "    <tr>\n",
       "      <th>2</th>\n",
       "      <td>0.026543</td>\n",
       "      <td>0.002608</td>\n",
       "      <td>0.125893</td>\n",
       "    </tr>\n",
       "    <tr>\n",
       "      <th>3</th>\n",
       "      <td>0.026543</td>\n",
       "      <td>0.002608</td>\n",
       "      <td>0.141254</td>\n",
       "    </tr>\n",
       "    <tr>\n",
       "      <th>4</th>\n",
       "      <td>0.026543</td>\n",
       "      <td>0.002608</td>\n",
       "      <td>0.158489</td>\n",
       "    </tr>\n",
       "  </tbody>\n",
       "</table>\n",
       "</div>"
      ],
      "text/plain": [
       "     riesgo   retorno       phi\n",
       "0  0.026543  0.002608  0.100000\n",
       "1  0.026543  0.002608  0.112202\n",
       "2  0.026543  0.002608  0.125893\n",
       "3  0.026543  0.002608  0.141254\n",
       "4  0.026543  0.002608  0.158489"
      ]
     },
     "execution_count": 85,
     "metadata": {},
     "output_type": "execute_result"
    }
   ],
   "source": [
    "rest_intervalo_grupos.head()"
   ]
  },
  {
   "cell_type": "code",
   "execution_count": 86,
   "metadata": {
    "colab": {
     "base_uri": "https://localhost:8080/",
     "height": 206
    },
    "id": "mcNSvLWSZu3K",
    "outputId": "2fdcdaf9-df26-468f-da5e-ffde14a0374d"
   },
   "outputs": [
    {
     "data": {
      "text/html": [
       "<div>\n",
       "<style scoped>\n",
       "    .dataframe tbody tr th:only-of-type {\n",
       "        vertical-align: middle;\n",
       "    }\n",
       "\n",
       "    .dataframe tbody tr th {\n",
       "        vertical-align: top;\n",
       "    }\n",
       "\n",
       "    .dataframe thead th {\n",
       "        text-align: right;\n",
       "    }\n",
       "</style>\n",
       "<table border=\"1\" class=\"dataframe\">\n",
       "  <thead>\n",
       "    <tr style=\"text-align: right;\">\n",
       "      <th></th>\n",
       "      <th>riesgo</th>\n",
       "      <th>retorno</th>\n",
       "      <th>phi</th>\n",
       "    </tr>\n",
       "  </thead>\n",
       "  <tbody>\n",
       "    <tr>\n",
       "      <th>95</th>\n",
       "      <td>0.001428</td>\n",
       "      <td>0.000054</td>\n",
       "      <td>5623.413252</td>\n",
       "    </tr>\n",
       "    <tr>\n",
       "      <th>96</th>\n",
       "      <td>0.001428</td>\n",
       "      <td>0.000053</td>\n",
       "      <td>6309.573445</td>\n",
       "    </tr>\n",
       "    <tr>\n",
       "      <th>97</th>\n",
       "      <td>0.001428</td>\n",
       "      <td>0.000053</td>\n",
       "      <td>7079.457844</td>\n",
       "    </tr>\n",
       "    <tr>\n",
       "      <th>98</th>\n",
       "      <td>0.001428</td>\n",
       "      <td>0.000053</td>\n",
       "      <td>7943.282347</td>\n",
       "    </tr>\n",
       "    <tr>\n",
       "      <th>99</th>\n",
       "      <td>0.001428</td>\n",
       "      <td>0.000053</td>\n",
       "      <td>8912.509381</td>\n",
       "    </tr>\n",
       "  </tbody>\n",
       "</table>\n",
       "</div>"
      ],
      "text/plain": [
       "      riesgo   retorno          phi\n",
       "95  0.001428  0.000054  5623.413252\n",
       "96  0.001428  0.000053  6309.573445\n",
       "97  0.001428  0.000053  7079.457844\n",
       "98  0.001428  0.000053  7943.282347\n",
       "99  0.001428  0.000053  8912.509381"
      ]
     },
     "execution_count": 86,
     "metadata": {},
     "output_type": "execute_result"
    }
   ],
   "source": [
    "rest_intervalo_grupos.tail()"
   ]
  },
  {
   "cell_type": "code",
   "execution_count": 87,
   "metadata": {
    "colab": {
     "base_uri": "https://localhost:8080/",
     "height": 477
    },
    "id": "lVbG1wy8Zu3K",
    "outputId": "bf13b4b1-2899-48bb-a27f-0e7dc26d4487"
   },
   "outputs": [
    {
     "data": {
      "text/plain": [
       "Text(0, 0.5, 'Retorno %')"
      ]
     },
     "execution_count": 87,
     "metadata": {},
     "output_type": "execute_result"
    },
    {
     "data": {
      "image/png": "[encoded data removed]",
      "text/plain": [
       "<Figure size 720x504 with 1 Axes>"
      ]
     },
     "metadata": {
      "needs_background": "light"
     },
     "output_type": "display_data"
    }
   ],
   "source": [
    "ax = rest_intervalo_grupos.plot.line(x=\"riesgo\", y=\"retorno\", title = \"Frontera Óptima Restricción por Grupos\", legend=False, figsize=(10,7))\n",
    "ax.set_xlabel(\"Riesgo %\")\n",
    "ax.set_ylabel(\"Retorno %\")"
   ]
  },
  {
   "cell_type": "code",
   "execution_count": 88,
   "metadata": {
    "colab": {
     "base_uri": "https://localhost:8080/"
    },
    "id": "PP715LsdZu3L",
    "outputId": "27297a85-d538-4f50-c655-f4d781ac92b3"
   },
   "outputs": [
    {
     "data": {
      "text/plain": [
       "array([[0.5],\n",
       "       [0. ],\n",
       "       [0. ],\n",
       "       [0.3]])"
      ]
     },
     "execution_count": 88,
     "metadata": {},
     "output_type": "execute_result"
    }
   ],
   "source": [
    "np.round(portfolios[0], decimals = 3)"
   ]
  },
  {
   "cell_type": "code",
   "execution_count": 89,
   "metadata": {
    "colab": {
     "base_uri": "https://localhost:8080/"
    },
    "id": "iqsGvzP6Zu3L",
    "outputId": "bffb67c3-dcd3-4c73-97c7-d8f3f9b88714"
   },
   "outputs": [
    {
     "data": {
      "text/plain": [
       "riesgo     0.026543\n",
       "retorno    0.002608\n",
       "phi        0.100000\n",
       "Name: 0, dtype: float64"
      ]
     },
     "execution_count": 89,
     "metadata": {},
     "output_type": "execute_result"
    }
   ],
   "source": [
    "rest_intervalo_grupos.iloc[0]"
   ]
  },
  {
   "cell_type": "code",
   "execution_count": 90,
   "metadata": {
    "colab": {
     "base_uri": "https://localhost:8080/"
    },
    "id": "IG2BToVsZu3M",
    "outputId": "3123ca9c-5504-4f93-c108-941ffb4d962f"
   },
   "outputs": [
    {
     "data": {
      "text/plain": [
       "array([0.00260839])"
      ]
     },
     "execution_count": 90,
     "metadata": {},
     "output_type": "execute_result"
    }
   ],
   "source": [
    "g@ np.array(portfolios[0]) "
   ]
  },
  {
   "cell_type": "code",
   "execution_count": 91,
   "metadata": {
    "colab": {
     "base_uri": "https://localhost:8080/"
    },
    "id": "c_aiHXY_Zu3M",
    "outputId": "66acedf0-602f-45e2-cb6b-d778230b1900"
   },
   "outputs": [
    {
     "data": {
      "text/plain": [
       "riesgo        0.001428\n",
       "retorno       0.000053\n",
       "phi        8912.509381\n",
       "Name: 99, dtype: float64"
      ]
     },
     "execution_count": 91,
     "metadata": {},
     "output_type": "execute_result"
    }
   ],
   "source": [
    "rest_intervalo_grupos.iloc[-1]"
   ]
  },
  {
   "cell_type": "code",
   "execution_count": 92,
   "metadata": {
    "colab": {
     "base_uri": "https://localhost:8080/"
    },
    "id": "2Pt9Wp92Zu3M",
    "outputId": "11f76ca9-e336-4642-961d-ab02167ca482"
   },
   "outputs": [
    {
     "data": {
      "text/plain": [
       "array([[0.004],\n",
       "       [0.061],\n",
       "       [0.196],\n",
       "       [0.039]])"
      ]
     },
     "execution_count": 92,
     "metadata": {},
     "output_type": "execute_result"
    }
   ],
   "source": [
    "np.round(portfolios[-1], decimals = 3)"
   ]
  },
  {
   "cell_type": "code",
   "execution_count": 93,
   "metadata": {
    "colab": {
     "base_uri": "https://localhost:8080/"
    },
    "id": "zoUwurM9Zu3N",
    "outputId": "4e7d7fce-1426-4fec-9d21-7d8570e938c3"
   },
   "outputs": [
    {
     "data": {
      "text/plain": [
       "array([5.27324187e-05])"
      ]
     },
     "execution_count": 93,
     "metadata": {},
     "output_type": "execute_result"
    }
   ],
   "source": [
    "g@ np.array(portfolios[-1]) "
   ]
  },
  {
   "cell_type": "markdown",
   "metadata": {
    "id": "ui6EBauIcF7K"
   },
   "source": [
    "# Restricción de cardinalidad o número de activos"
   ]
  },
  {
   "cell_type": "code",
   "execution_count": 94,
   "metadata": {
    "id": "8qpC8QyPcgzg"
   },
   "outputs": [],
   "source": [
    "combinaciones = list(itertools.combinations([0,1,2,3], r = 3))"
   ]
  },
  {
   "cell_type": "code",
   "execution_count": 95,
   "metadata": {
    "colab": {
     "base_uri": "https://localhost:8080/"
    },
    "id": "LDWjf4ZhdTfs",
    "outputId": "cade8537-8026-4ed0-8da5-cc8188636068"
   },
   "outputs": [
    {
     "data": {
      "text/plain": [
       "[0, 1, 3]"
      ]
     },
     "execution_count": 95,
     "metadata": {},
     "output_type": "execute_result"
    }
   ],
   "source": [
    "list(combinaciones[1])"
   ]
  },
  {
   "cell_type": "code",
   "execution_count": 96,
   "metadata": {
    "colab": {
     "base_uri": "https://localhost:8080/",
     "height": 143
    },
    "id": "SjMYbag5fCUk",
    "outputId": "505e0881-af47-4654-aee7-cc1720fb6fef"
   },
   "outputs": [
    {
     "data": {
      "text/html": [
       "<div>\n",
       "<style scoped>\n",
       "    .dataframe tbody tr th:only-of-type {\n",
       "        vertical-align: middle;\n",
       "    }\n",
       "\n",
       "    .dataframe tbody tr th {\n",
       "        vertical-align: top;\n",
       "    }\n",
       "\n",
       "    .dataframe thead th {\n",
       "        text-align: right;\n",
       "    }\n",
       "</style>\n",
       "<table border=\"1\" class=\"dataframe\">\n",
       "  <thead>\n",
       "    <tr style=\"text-align: right;\">\n",
       "      <th></th>\n",
       "      <th>BTC-USD</th>\n",
       "      <th>GC=F</th>\n",
       "      <th>^MXX</th>\n",
       "    </tr>\n",
       "  </thead>\n",
       "  <tbody>\n",
       "    <tr>\n",
       "      <th>BTC-USD</th>\n",
       "      <td>0.002706</td>\n",
       "      <td>-0.000033</td>\n",
       "      <td>0.000070</td>\n",
       "    </tr>\n",
       "    <tr>\n",
       "      <th>GC=F</th>\n",
       "      <td>-0.000033</td>\n",
       "      <td>0.000091</td>\n",
       "      <td>0.000002</td>\n",
       "    </tr>\n",
       "    <tr>\n",
       "      <th>^MXX</th>\n",
       "      <td>0.000070</td>\n",
       "      <td>0.000002</td>\n",
       "      <td>0.000078</td>\n",
       "    </tr>\n",
       "  </tbody>\n",
       "</table>\n",
       "</div>"
      ],
      "text/plain": [
       "          BTC-USD      GC=F      ^MXX\n",
       "BTC-USD  0.002706 -0.000033  0.000070\n",
       "GC=F    -0.000033  0.000091  0.000002\n",
       "^MXX     0.000070  0.000002  0.000078"
      ]
     },
     "execution_count": 96,
     "metadata": {},
     "output_type": "execute_result"
    }
   ],
   "source": [
    "(retpor.iloc[:,list(combinaciones[1])]).cov()"
   ]
  },
  {
   "cell_type": "code",
   "execution_count": 97,
   "metadata": {
    "colab": {
     "base_uri": "https://localhost:8080/"
    },
    "id": "pxzP0tFLcvoE",
    "outputId": "3d27ab58-a1dd-48e9-84ce-689996528928"
   },
   "outputs": [
    {
     "name": "stdout",
     "output_type": "stream",
     "text": [
      "[ 2.71e-03 -3.25e-05  7.00e-05]\n",
      "[-3.25e-05  9.13e-05  2.30e-06]\n",
      "[ 7.00e-05  2.30e-06  7.79e-05]\n",
      "\n"
     ]
    }
   ],
   "source": [
    "print(matrix(np.matrix((retpor.iloc[:,list(combinaciones[1])]).cov())))"
   ]
  },
  {
   "cell_type": "code",
   "execution_count": 99,
   "metadata": {
    "id": "hVMH7DihcFC8"
   },
   "outputs": [],
   "source": [
    "riesgos_todos = []\n",
    "retornos_todos = []\n",
    "for combinacion in combinaciones:\n",
    "  # cálculo de parámetros\n",
    "  datos_combinacion = retpor.iloc[:,list(combinacion)]\n",
    "  S = matrix(np.matrix((retpor.iloc[:,list(combinaciones[1])]).cov()))\n",
    "  pbar = matrix(np.matrix((datos_combinacion).mean()).T)\n",
    "  # \n",
    "  n = len(pbar)\n",
    "\n",
    "\n",
    "  # Restriccioń de no ventas en corto\n",
    "  # G es la matriz identidad y tiene que ver con la restricción x >= 0 (parte derecha G x)\n",
    "  G = matrix(0.0, (n,n))\n",
    "  G[::n+1] = -1.0\n",
    "  # h es un vector de ceros y es el lado derecho de la restriccioń x >= 0\n",
    "  h = matrix(0.0, (n,1))\n",
    "\n",
    "  ## Restriccioń de alocacioń de todo el capital\n",
    "  # Esta matriz tiene que ver con la rstricción 1T x = 1 y es una matriz (o mas bien vector) de 1 (parte izq)\n",
    "  A = matrix(1.0, (1,n))\n",
    "  # es escalar 1 que es la parte derecha de 1T x = 1\n",
    "  b = matrix(1.0)\n",
    "\n",
    "  # Definición de número de valores de phi que se van a calcular.\n",
    "  N = 100\n",
    "  phis = [ 10**(5.0*t/N-1.0) for t in range(N) ]\n",
    "  portfolios = [ qp(phi*S, -pbar, G, h, A, b)['x'] for phi in phis ]\n",
    "\n",
    "\n",
    "  returns = [ dot(pbar,x) for x in portfolios ]\n",
    "  retornos_todos.append(returns)\n",
    "  risks = [ sqrt(dot(x, S*x)) for x in portfolios ]\n",
    "  riesgos_todos.append(risks)\n",
    "  \n",
    "\n",
    "\n"
   ]
  },
  {
   "cell_type": "code",
   "execution_count": 100,
   "metadata": {
    "colab": {
     "base_uri": "https://localhost:8080/",
     "height": 458
    },
    "id": "NDD3pNAufs-_",
    "outputId": "75a125c1-aea9-413d-de3f-2b4e65046a1f"
   },
   "outputs": [
    {
     "data": {
      "image/png": "[encoded data removed]",
      "text/plain": [
       "<Figure size 720x504 with 1 Axes>"
      ]
     },
     "metadata": {
      "needs_background": "light"
     },
     "output_type": "display_data"
    }
   ],
   "source": [
    "figure(figsize=(10, 7))\n",
    "plt.plot(riesgos_todos[0], retornos_todos[0], alpha = 0.3, color = \"r\", label =\"BTC-USD, Gold, USD/MXN\")\n",
    "plt.plot(riesgos_todos[1], retornos_todos[1], alpha = 0.5, color = \"y\", label =\"BTC-USD, Gold, IPC\")\n",
    "plt.plot(riesgos_todos[2], retornos_todos[2], alpha = 0.3, color = \"g\", label =\"BTC-USD, USD/MXN, IPC\")\n",
    "plt.plot(riesgos_todos[3], retornos_todos[3], alpha = 0.3, color =\"c\", label =\"Gold, USD/MXN, IPC\")\n",
    "plt.legend()\n",
    "plt.title(\"Comparación de portafolios con tres activos (Restricción Cardinalidad)\")\n",
    "plt.xlabel(\"Riesgo %\")\n",
    "plt.ylabel(\"Retorno %\")\n",
    "\n",
    "plt.show()"
   ]
  },
  {
   "cell_type": "markdown",
   "metadata": {
    "id": "JZPDlNCIiYuG"
   },
   "source": [
    "Notar que en la gráfica de arriba, el portafolio  verde es el óptimo con respecto a los demás para todos los niveles de riesgo (aunque para riesgos altos, se obtienen casi los mismos rendimientos esperados)"
   ]
  },
  {
   "cell_type": "code",
   "execution_count": 101,
   "metadata": {
    "colab": {
     "base_uri": "https://localhost:8080/"
    },
    "id": "lILjLTwUhm83",
    "outputId": "c13690bd-33f4-462f-c910-88bbb233d517"
   },
   "outputs": [
    {
     "data": {
      "text/plain": [
       "0.008825171935245705"
      ]
     },
     "execution_count": 101,
     "metadata": {},
     "output_type": "execute_result"
    }
   ],
   "source": [
    "np.max(riesgos_todos[3])"
   ]
  },
  {
   "cell_type": "code",
   "execution_count": 102,
   "metadata": {
    "colab": {
     "base_uri": "https://localhost:8080/"
    },
    "id": "3QgwEeuRWY_p",
    "outputId": "d07a9b2f-616b-4ac2-c09b-8c535271de30"
   },
   "outputs": [
    {
     "data": {
      "text/plain": [
       "0.0007790742397789788"
      ]
     },
     "execution_count": 102,
     "metadata": {},
     "output_type": "execute_result"
    }
   ],
   "source": [
    "np.max(retornos_todos[3])"
   ]
  }
 ],
 "metadata": {
  "colab": {
   "collapsed_sections": [],
   "name": "ProyectoFinal.ipynb",
   "provenance": []
  },
  "kernelspec": {
   "display_name": "Python 3 (ipykernel)",
   "language": "python",
   "name": "python3"
  },
  "language_info": {
   "codemirror_mode": {
    "name": "ipython",
    "version": 3
   },
   "file_extension": ".py",
   "mimetype": "text/x-python",
   "name": "python",
   "nbconvert_exporter": "python",
   "pygments_lexer": "ipython3",
   "version": "3.8.13"
  }
 },
 "nbformat": 4,
 "nbformat_minor": 4
}
